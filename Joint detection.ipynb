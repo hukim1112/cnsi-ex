{
 "cells": [
  {
   "cell_type": "code",
   "execution_count": 1,
   "id": "f80f5c0c",
   "metadata": {},
   "outputs": [
    {
     "name": "stdout",
     "output_type": "stream",
     "text": [
      "1 Physical GPUs, 1 Logical GPUs\n"
     ]
    }
   ],
   "source": [
    "import json, os, sys\n",
    "%load_ext autoreload\n",
    "%autoreload 2\n",
    "os.environ[\"CUDA_VISIBLE_DEVICES\"]=\"2\"\n",
    "\n",
    "import tensorflow as tf\n",
    "from data.loader import load_detection\n",
    "from utils.session_config import setup_gpus\n",
    "setup_gpus(True, 0.95)"
   ]
  },
  {
   "cell_type": "code",
   "execution_count": 2,
   "id": "4d646e28",
   "metadata": {},
   "outputs": [
    {
     "name": "stdout",
     "output_type": "stream",
     "text": [
      "loading annotations into memory...\n",
      "Done (t=1.09s)\n",
      "creating index...\n",
      "index created!\n"
     ]
    }
   ],
   "source": [
    "import numpy as np\n",
    "from matplotlib import pyplot as plt\n",
    "from pycocotools.coco import COCO\n",
    "train_ids = np.load(\"annotations/train_ids.npy\")\n",
    "test_ids = np.load(\"annotations/val_ids.npy\")\n",
    "coco = COCO(\"annotations/integrated_annotation.json\")"
   ]
  },
  {
   "cell_type": "code",
   "execution_count": 3,
   "id": "43ecfb41",
   "metadata": {},
   "outputs": [
    {
     "name": "stdout",
     "output_type": "stream",
     "text": [
      "(19, 224, 224, 3)\n",
      "tf.Tensor([0 0 0 0 0 0 0 0 0 1 1 0 0 0 0 0 0 0 0], shape=(19,), dtype=int32)\n"
     ]
    }
   ],
   "source": [
    "train_ds = load_detection(train_ids, coco, \"detection\")\n",
    "for patches, labels in train_ds.take(1):\n",
    "    print(patches.shape)\n",
    "    print(labels)"
   ]
  },
  {
   "cell_type": "code",
   "execution_count": 4,
   "id": "811b48d0",
   "metadata": {},
   "outputs": [],
   "source": [
    "def shape_process(patches, labels):\n",
    "    patches = tf.reshape(patches, [-1,224,224,3])\n",
    "    labels = tf.reshape(labels, [-1])\n",
    "    return patches, labels\n",
    "\n",
    "train_ds = load_detection(train_ids, coco, \"detection\", shuffle=True)\n",
    "train_ds = train_ds.cache().batch(8).map(shape_process).prefetch(tf.data.experimental.AUTOTUNE)\n",
    "#train_ds = train_ds.cache().batch(16).map(shape_process).prefetch(tf.data.experimental.AUTOTUNE)\n",
    "test_ds = load_detection(test_ids, coco, \"detection\")\n",
    "test_ds = test_ds.batch(8).map(shape_process)"
   ]
  },
  {
   "cell_type": "code",
   "execution_count": 5,
   "id": "d73517a7",
   "metadata": {},
   "outputs": [
    {
     "name": "stdout",
     "output_type": "stream",
     "text": [
      "(152, 224, 224, 3)\n",
      "tf.Tensor(\n",
      "[0 0 0 0 0 0 0 0 0 0 1 1 0 0 0 0 0 0 0 0 0 0 0 0 0 0 0 0 0 1 1 0 0 0 0 0 0\n",
      " 0 0 0 0 0 0 0 0 0 0 0 0 0 0 0 0 0 0 0 1 0 0 0 0 0 0 0 0 0 0 0 0 0 1 1 1 0\n",
      " 0 0 0 1 1 0 0 0 0 0 0 0 0 0 0 0 0 0 0 0 0 0 0 1 1 1 0 0 0 0 0 0 0 0 0 0 0\n",
      " 0 0 0 0 0 0 0 0 0 0 0 0 0 0 0 0 0 0 0 0 0 1 0 0 0 0 0 0 0 0 0 0 0 0 1 1 0\n",
      " 0 0 0 0], shape=(152,), dtype=int32)\n"
     ]
    }
   ],
   "source": [
    "for patches, labels in train_ds.take(1):\n",
    "    print(patches.shape)\n",
    "    print(labels)"
   ]
  },
  {
   "cell_type": "code",
   "execution_count": null,
   "id": "1fb4940e",
   "metadata": {},
   "outputs": [],
   "source": []
  },
  {
   "cell_type": "code",
   "execution_count": null,
   "id": "16f6032b",
   "metadata": {},
   "outputs": [],
   "source": []
  },
  {
   "cell_type": "markdown",
   "id": "06afdf66",
   "metadata": {},
   "source": [
    "# 모델 빌드 및 학습"
   ]
  },
  {
   "cell_type": "code",
   "execution_count": 6,
   "id": "d21063e0",
   "metadata": {},
   "outputs": [
    {
     "name": "stdout",
     "output_type": "stream",
     "text": [
      "WARNING:tensorflow:No training configuration found in the save file, so the model was *not* compiled. Compile it manually.\n"
     ]
    }
   ],
   "source": [
    "model = tf.keras.models.load_model(\"models/detection.h5\")"
   ]
  },
  {
   "cell_type": "code",
   "execution_count": 7,
   "id": "f0cec65f",
   "metadata": {},
   "outputs": [],
   "source": [
    "CCE = tf.keras.losses.SparseCategoricalCrossentropy()\n",
    "\n",
    "@tf.function\n",
    "def train_step(images, labels, model, optimizer, train_loss, train_acc):\n",
    "    with tf.GradientTape() as tape:\n",
    "        preds = model(images, training=True)\n",
    "        loss = CCE(labels,preds)\n",
    "    gradients = tape.gradient(loss, model.trainable_variables)\n",
    "    optimizer.apply_gradients(zip(gradients, model.trainable_variables))\n",
    "    train_loss(loss)\n",
    "    train_acc(labels, preds)\n",
    "@tf.function\n",
    "def test_step(images, labels, model, test_loss, test_acc):\n",
    "    preds = model(images, training=False)\n",
    "    loss = CCE(labels,preds)\n",
    "    test_loss(loss)\n",
    "    test_acc(labels, preds)"
   ]
  },
  {
   "cell_type": "code",
   "execution_count": null,
   "id": "948bbaa0",
   "metadata": {},
   "outputs": [
    {
     "name": "stdout",
     "output_type": "stream",
     "text": [
      "Epoch : 1 train_step : 0\n",
      "Epoch : 1 train_step : 1\n",
      "Epoch : 1 train_step : 2\n",
      "Epoch : 1 train_step : 3\n",
      "Epoch : 1 train_step : 4\n",
      "Epoch : 1 train_step : 5\n",
      "Epoch : 1 train_step : 6\n",
      "Epoch : 1 train_step : 7\n",
      "Epoch : 1 train_step : 8\n",
      "Epoch : 1 train_step : 9\n",
      "Epoch : 1 train_step : 10\n",
      "Epoch : 1 train_step : 11\n",
      "Epoch : 1 train_step : 12\n",
      "Epoch : 1 train_step : 13\n",
      "Epoch : 1 train_step : 14\n",
      "Epoch : 1 train_step : 15\n",
      "Epoch : 1 train_step : 16\n",
      "Epoch : 1 train_step : 17\n",
      "Epoch : 1 train_step : 18\n",
      "Epoch : 1 train_step : 19\n",
      "Epoch : 1 train_step : 20\n",
      "Epoch : 1 train_step : 21\n",
      "Epoch : 1 train_step : 22\n",
      "Epoch : 1 train_step : 23\n",
      "Epoch : 1 train_step : 24\n",
      "Epoch : 1 train_step : 25\n",
      "Epoch : 1 train_step : 26\n",
      "Epoch : 1 train_step : 27\n",
      "Epoch : 1 train_step : 28\n",
      "Epoch : 1 train_step : 29\n",
      "Epoch : 1 train_step : 30\n",
      "Epoch : 1 train_step : 31\n",
      "Epoch : 1 train_step : 32\n",
      "Epoch : 1 train_step : 33\n",
      "Epoch : 1 train_step : 34\n",
      "Epoch : 1 train_step : 35\n",
      "Epoch : 1 train_step : 36\n",
      "Epoch : 1 train_step : 37\n",
      "Epoch : 1 train_step : 38\n",
      "Epoch : 1 train_step : 39\n",
      "Epoch : 1 train_step : 40\n",
      "Epoch : 1 train_step : 41\n",
      "Epoch : 1 train_step : 42\n",
      "Epoch : 1 train_step : 43\n",
      "Epoch : 1 train_step : 44\n",
      "Epoch : 1 train_step : 45\n",
      "Epoch : 1 train_step : 46\n",
      "Epoch : 1 train_step : 47\n",
      "Epoch : 1 train_step : 48\n",
      "Epoch : 1 train_step : 49\n",
      "Epoch : 1 train_step : 50\n",
      "Epoch : 1 train_step : 51\n",
      "Epoch : 1 train_step : 52\n",
      "Epoch : 1 train_step : 53\n",
      "Epoch : 1 train_step : 54\n",
      "Epoch : 1 train_step : 55\n",
      "Epoch : 1 train_step : 56\n",
      "Epoch : 1 train_step : 57\n",
      "Epoch : 1 train_step : 58\n",
      "Epoch : 1 train_step : 59\n",
      "Epoch : 1 train_step : 60\n",
      "Epoch : 1 train_step : 61\n",
      "Epoch : 1 train_step : 62\n",
      "Epoch : 1 train_step : 63\n",
      "Epoch : 1 train_step : 64\n",
      "Epoch : 1 train_step : 65\n",
      "Epoch : 1 train_step : 66\n",
      "Epoch : 1 train_step : 67\n",
      "Epoch : 1 train_step : 68\n",
      "Epoch : 1 train_step : 69\n",
      "Epoch : 1 train_step : 70\n",
      "Epoch : 1 train_step : 71\n",
      "Epoch : 1 train_step : 72\n",
      "Epoch : 1 train_step : 73\n",
      "Epoch : 1 train_step : 74\n",
      "Epoch : 1 train_step : 75\n",
      "Epoch : 1 train_step : 76\n",
      "Epoch : 1 train_step : 77\n",
      "Epoch : 1 train_step : 78\n",
      "Epoch : 1 train_step : 79\n",
      "Epoch : 1 train_step : 80\n",
      "Epoch : 1 train_step : 81\n",
      "Epoch : 1 train_step : 82\n",
      "Epoch : 1 train_step : 83\n",
      "Epoch : 1 train_step : 84\n",
      "Epoch : 1 train_step : 85\n",
      "Epoch : 1 train_step : 86\n",
      "Epoch : 1 train_step : 87\n",
      "Epoch : 1 train_step : 88\n",
      "Epoch : 1 train_step : 89\n",
      "Epoch : 1 train_step : 90\n",
      "Epoch : 1 train_step : 91\n",
      "Epoch : 1 train_step : 92\n",
      "Epoch : 1 train_step : 93\n",
      "Epoch : 1 train_step : 94\n",
      "Epoch : 1 train_step : 95\n",
      "Epoch : 1 train_step : 96\n",
      "Epoch : 1 train_step : 97\n",
      "Epoch : 1 train_step : 98\n",
      "Epoch : 1 train_step : 99\n",
      "Epoch : 1 train_step : 100\n",
      "Epoch : 1 train_step : 101\n",
      "Epoch : 1 train_step : 102\n",
      "Epoch : 1 train_step : 103\n",
      "Epoch : 1 train_step : 104\n",
      "Epoch : 1 train_step : 105\n",
      "Epoch : 1 train_step : 106\n",
      "Epoch : 1 train_step : 107\n",
      "Epoch : 1 train_step : 108\n",
      "Epoch : 1 train_step : 109\n",
      "Epoch : 1 train_step : 110\n",
      "Epoch : 1 train_step : 111\n",
      "Epoch : 1 train_step : 112\n",
      "Epoch : 1 train_step : 113\n",
      "Epoch : 1 train_step : 114\n",
      "Epoch : 1 train_step : 115\n",
      "Epoch : 1 train_step : 116\n",
      "Epoch : 1 train_step : 117\n",
      "Epoch : 1 train_step : 118\n",
      "Epoch : 1 train_step : 119\n",
      "Epoch : 1 train_step : 120\n",
      "Epoch : 1 train_step : 121\n",
      "Epoch : 1 train_step : 122\n",
      "Epoch : 1 train_step : 123\n",
      "Epoch : 1 train_step : 124\n",
      "Epoch : 1 train_step : 125\n",
      "Epoch : 1 train_step : 126\n",
      "Epoch : 1 train_step : 127\n",
      "Epoch : 1 train_step : 128\n",
      "Epoch : 1 train_step : 129\n",
      "Epoch : 1 train_step : 130\n",
      "Epoch : 1 train_step : 131\n",
      "Epoch : 1 train_step : 132\n",
      "Epoch : 1 train_step : 133\n",
      "Epoch : 1 train_step : 134\n",
      "Epoch : 1 train_step : 135\n",
      "Epoch : 1 train_step : 136\n",
      "Epoch : 1 train_step : 137\n",
      "Epoch : 1 train_step : 138\n",
      "Epoch : 1 train_step : 139\n",
      "Epoch : 1 train_step : 140\n",
      "Epoch : 1 train_step : 141\n",
      "Epoch : 1 train_step : 142\n",
      "Epoch : 1 train_step : 143\n",
      "Epoch : 1 train_step : 144\n",
      "Epoch : 1 train_step : 145\n",
      "Epoch : 1 train_step : 146\n",
      "Epoch : 1 train_step : 147\n",
      "Epoch : 1 train_step : 148\n",
      "Epoch : 1 train_step : 149\n",
      "Epoch : 1 train_step : 150\n",
      "Epoch : 1 train_step : 151\n",
      "Epoch : 1 train_step : 152\n"
     ]
    }
   ],
   "source": [
    "train_loss = tf.keras.metrics.Mean(name='train_loss')\n",
    "train_acc = tf.keras.metrics.SparseCategoricalAccuracy(name='train_accuracy')\n",
    "test_loss = tf.keras.metrics.Mean(name='test_loss')\n",
    "test_acc = tf.keras.metrics.SparseCategoricalAccuracy(name='test_accuracy')\n",
    "\n",
    "\n",
    "template = \"Epoch {} : detection train loss {:5f}, accuracy {:.3f}, val loss {:5f}, val accuracy {:.3f}\"\n",
    "\n",
    "optimizer= tf.keras.optimizers.Adam(learning_rate=1E-3)\n",
    "EPOCH = 20\n",
    "\n",
    "log_dir = \"logs/detection\"\n",
    "summary_writer = tf.summary.create_file_writer(log_dir)\n",
    "\n",
    "for epoch in range(1, EPOCH+1): \n",
    "    train_loss.reset_states()\n",
    "    train_acc.reset_states()\n",
    "    test_loss.reset_states()\n",
    "    test_acc.reset_states()\n",
    "\n",
    "    for i, (patches, labels) in enumerate(train_ds):\n",
    "        train_step(patches, labels, model, optimizer, \\\n",
    "                             train_loss, train_acc)\n",
    "        print(\"Epoch : {} train_step : {}\".format(epoch, i))\n",
    "    \n",
    "    #print(\"Epoch : {}\".format(train_acc.result().numpy()))\n",
    "    for i, (patches, labels) in enumerate(test_ds):\n",
    "        test_step(patches, labels, model, test_loss, test_acc)\n",
    "    print(template.format(epoch,\n",
    "                      train_loss.result().numpy(),\n",
    "                      train_acc.result().numpy(),\n",
    "                     test_loss.result().numpy(),\n",
    "                     test_acc.result().numpy()))\n",
    "\n",
    "    with summary_writer.as_default():\n",
    "        tf.summary.scalar('train_loss', train_loss.result(), step=epoch)\n",
    "        tf.summary.scalar('train_acc', train_acc.result().numpy(), step=epoch)\n",
    "        tf.summary.scalar('test_loss', test_loss.result().numpy(), step=epoch)\n",
    "        tf.summary.scalar('test_acc', test_acc.result().numpy(), step=epoch)"
   ]
  },
  {
   "cell_type": "code",
   "execution_count": null,
   "id": "0555acf0",
   "metadata": {},
   "outputs": [],
   "source": [
    "model.save(\"checkpoints/detection/model.h5\")"
   ]
  },
  {
   "cell_type": "code",
   "execution_count": null,
   "id": "a46ad067",
   "metadata": {},
   "outputs": [],
   "source": []
  }
 ],
 "metadata": {
  "kernelspec": {
   "display_name": "Python 3",
   "language": "python",
   "name": "python3"
  },
  "language_info": {
   "codemirror_mode": {
    "name": "ipython",
    "version": 3
   },
   "file_extension": ".py",
   "mimetype": "text/x-python",
   "name": "python",
   "nbconvert_exporter": "python",
   "pygments_lexer": "ipython3",
   "version": "3.6.9"
  }
 },
 "nbformat": 4,
 "nbformat_minor": 5
}
