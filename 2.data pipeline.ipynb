{
 "cells": [
  {
   "cell_type": "code",
   "execution_count": 5,
   "id": "animated-arcade",
   "metadata": {},
   "outputs": [
    {
     "name": "stdout",
     "output_type": "stream",
     "text": [
      "The autoreload extension is already loaded. To reload it, use:\n",
      "  %reload_ext autoreload\n"
     ]
    }
   ],
   "source": [
    "import json, os, sys\n",
    "%load_ext autoreload\n",
    "%autoreload 2\n",
    "os.environ[\"CUDA_VISIBLE_DEVICES\"]=\"1\"\n",
    "# from utils import session_config\n",
    "# session_config.setup_gpus(True, 0.95)\n",
    "\n",
    "from matplotlib import pyplot as plt\n",
    "import tensorflow as tf\n",
    "import cv2\n",
    "import numpy as np\n",
    "from functools import partial\n",
    "from utils.iou import compute_iou"
   ]
  },
  {
   "cell_type": "markdown",
   "id": "comprehensive-muscle",
   "metadata": {},
   "source": [
    "# load image information from coco object"
   ]
  },
  {
   "cell_type": "code",
   "execution_count": 3,
   "id": "posted-frontier",
   "metadata": {},
   "outputs": [
    {
     "name": "stdout",
     "output_type": "stream",
     "text": [
      "loading annotations into memory...\n",
      "Done (t=0.70s)\n",
      "creating index...\n",
      "index created!\n",
      "train-data length : 9000\n",
      "train-data length : 1737\n"
     ]
    }
   ],
   "source": [
    "sys.path.append(\"/home/files/cocoapi/PythonAPI\")\n",
    "from pycocotools.coco import COCO\n",
    "coco = COCO(\"annotations/integrated_annotation.json\")\n",
    "\n",
    "train_ids = np.load(\"annotations/train_ids.npy\")\n",
    "print(\"train-data length : {}\".format(len(train_ids)))\n",
    "val_ids = np.load(\"annotations/val_ids.npy\")\n",
    "print(\"train-data length : {}\".format(len(val_ids)))"
   ]
  },
  {
   "cell_type": "code",
   "execution_count": 4,
   "id": "electronic-recall",
   "metadata": {},
   "outputs": [],
   "source": [
    "boxes = np.zeros([19,4])\n",
    "for i in range(19):\n",
    "    boxes[i] = [0,0+0.05*i,1,0.1+0.05*i]\n",
    "def generate(coco, ids, boxes):\n",
    "    for image_id in ids:   \n",
    "        image = coco.loadImgs(int(image_id))\n",
    "        image_array = cv2.imread(\"detection\" + image[0][\"path\"])[:,:,::-1]\n",
    "        anno_ids = coco.getAnnIds(imgIds=int(image_id), catIds=[0], iscrowd=None)\n",
    "        anns = coco.loadAnns(anno_ids)\n",
    "\n",
    "        image_array = image_array[np.newaxis,...]\n",
    "        patches = tf.image.extract_patches(images=image_array,\n",
    "                                   sizes=[1, 1000, 1024, 1],\n",
    "                                   strides=[1, 500, 1, 1],\n",
    "                                   rates=[1, 1, 1, 1],\n",
    "                                   padding='VALID')\n",
    "        patches = tf.squeeze(patches)\n",
    "        patches = tf.reshape(patches, (19, 1000,1024,3))\n",
    "\n",
    "        bbox = []\n",
    "        for ann in anns:\n",
    "            x,y,w,h = ann[\"bbox\"]\n",
    "            x,y,w,h = x/2024,y/10000,w/2024,h/10000\n",
    "            bbox.append([x,y,x+w,y+h])   \n",
    "        bbox = np.array(bbox)        \n",
    "        ious = compute_iou(bbox, boxes)\n",
    "        ious = np.sum(ious, axis=0)\n",
    "        ious = tf.squeeze(ious)\n",
    "        labels = tf.where(ious>0, 1, 0)        \n",
    "        yield patches, labels"
   ]
  },
  {
   "cell_type": "code",
   "execution_count": 7,
   "id": "boxed-terrace",
   "metadata": {},
   "outputs": [],
   "source": [
    "gen = partial(generate, coco, train_ids, boxes)\n",
    "# generate data pipeline with from_generator in TensorFlow dataset APIs\n",
    "dataset = tf.data.Dataset.from_generator(gen,\n",
    "            (tf.uint8, tf.int32))"
   ]
  },
  {
   "cell_type": "code",
   "execution_count": 8,
   "id": "loose-dimension",
   "metadata": {},
   "outputs": [
    {
     "name": "stdout",
     "output_type": "stream",
     "text": [
      "(19, 1000, 1024, 3)\n",
      "tf.Tensor([0 0 0 1 1 0 0 0 0 0 0 0 0 0 0 0 0 0 0], shape=(19,), dtype=int32)\n"
     ]
    }
   ],
   "source": [
    "for image, label in dataset.take(1):\n",
    "    print(image.shape)\n",
    "    print(label)"
   ]
  },
  {
   "cell_type": "code",
   "execution_count": null,
   "id": "operational-istanbul",
   "metadata": {},
   "outputs": [],
   "source": []
  }
 ],
 "metadata": {
  "kernelspec": {
   "display_name": "Python 3",
   "language": "python",
   "name": "python3"
  },
  "language_info": {
   "codemirror_mode": {
    "name": "ipython",
    "version": 3
   },
   "file_extension": ".py",
   "mimetype": "text/x-python",
   "name": "python",
   "nbconvert_exporter": "python",
   "pygments_lexer": "ipython3",
   "version": "3.6.9"
  }
 },
 "nbformat": 4,
 "nbformat_minor": 5
}
