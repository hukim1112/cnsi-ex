{
 "cells": [
  {
   "cell_type": "code",
   "execution_count": null,
   "id": "e6b03ea6",
   "metadata": {},
   "outputs": [],
   "source": [
    "import os\n",
    "os.environ[\"CUDA_VISIBLE_DEVICES\"]=\"2\"\n",
    "import tensorflow as tf\n",
    "from tensorflow import keras\n",
    "import pix2pix\n",
    "from unet import unet_model"
   ]
  },
  {
   "cell_type": "code",
   "execution_count": null,
   "id": "80853f0d",
   "metadata": {},
   "outputs": [],
   "source": [
    "resnet = tf.keras.applications.ResNet50V2(include_top=False, \n",
    "                                         weights='imagenet', \n",
    "                                         input_shape=(224,224,3))\n",
    "detection_model = tf.keras.Sequential([resnet,\n",
    "                             tf.keras.layers.GlobalAveragePooling2D(),\n",
    "                             tf.keras.layers.Dense(128, activation='relu'),\n",
    "                             tf.keras.layers.Dense(2, activation=None),\n",
    "                             tf.keras.layers.Softmax()])\n",
    "detection_model.save(\"detection.h5\")"
   ]
  },
  {
   "cell_type": "code",
   "execution_count": null,
   "id": "5098655d",
   "metadata": {},
   "outputs": [],
   "source": [
    "OUTPUT_CHANNELS = 1\n",
    "base_model = tf.keras.applications.MobileNetV2(input_shape=[512, 512, 3], include_top=False)\n",
    "# Use the activations of these layers\n",
    "layer_names = [\n",
    "    'block_1_expand_relu',   # 512x512\n",
    "    'block_3_expand_relu',   # 256x256\n",
    "    'block_6_expand_relu',   # 128x128\n",
    "    'block_13_expand_relu',  # 64x64\n",
    "    'block_16_project',      # 32x32\n",
    "]\n",
    "layers = [base_model.get_layer(name).output for name in layer_names]\n",
    "\n",
    "# Create the feature extraction model\n",
    "down_stack = tf.keras.Model(inputs=base_model.input, outputs=layers)\n",
    "down_stack.trainable = True\n",
    "up_stack = [\n",
    "    pix2pix.upsample(512, 3),  # 4x4 -> 8x8\n",
    "    pix2pix.upsample(256, 3),  # 8x8 -> 16x16\n",
    "    pix2pix.upsample(128, 3),  # 16x16 -> 32x32\n",
    "    pix2pix.upsample(64, 3),   # 32x32 -> 64x64\n",
    "]"
   ]
  },
  {
   "cell_type": "code",
   "execution_count": null,
   "id": "5ca0e3aa",
   "metadata": {},
   "outputs": [],
   "source": [
    "inputs = tf.keras.layers.Input(shape=[512, 512, 3])\n",
    "x = inputs\n",
    "\n",
    "# Downsampling through the model\n",
    "skips = down_stack(x)\n",
    "x = skips[-1]\n",
    "skips = reversed(skips[:-1])\n",
    "\n",
    "# Upsampling and establishing the skip connections\n",
    "for up, skip in zip(up_stack, skips):\n",
    "    x = up(x)\n",
    "    concat = tf.keras.layers.Concatenate()\n",
    "    x = concat([x, skip])\n",
    "# This is the last layer of the model\n",
    "last = tf.keras.layers.Conv2DTranspose(OUTPUT_CHANNELS, 3, strides=2,padding='same', activation=\"sigmoid\")  #64x64 -> 128x128\n",
    "x = last(x)\n",
    "segmentation_model = tf.keras.Model(inputs=inputs, outputs=x)"
   ]
  },
  {
   "cell_type": "code",
   "execution_count": null,
   "id": "fcdc651b",
   "metadata": {},
   "outputs": [],
   "source": [
    "segmentation_model.save(\"segmentation.h5\")"
   ]
  },
  {
   "cell_type": "code",
   "execution_count": null,
   "id": "b2a31736",
   "metadata": {},
   "outputs": [],
   "source": [
    "segmentation_model.summary()"
   ]
  },
  {
   "cell_type": "code",
   "execution_count": null,
   "id": "304feceb",
   "metadata": {},
   "outputs": [],
   "source": []
  }
 ],
 "metadata": {
  "kernelspec": {
   "display_name": "Python 3",
   "language": "python",
   "name": "python3"
  },
  "language_info": {
   "codemirror_mode": {
    "name": "ipython",
    "version": 3
   },
   "file_extension": ".py",
   "mimetype": "text/x-python",
   "name": "python",
   "nbconvert_exporter": "python",
   "pygments_lexer": "ipython3",
   "version": "3.6.9"
  }
 },
 "nbformat": 4,
 "nbformat_minor": 5
}
