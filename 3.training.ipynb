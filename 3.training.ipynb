{
 "cells": [
  {
   "cell_type": "code",
   "execution_count": null,
   "id": "animated-arcade",
   "metadata": {},
   "outputs": [],
   "source": [
    "import json, os, sys\n",
    "%load_ext autoreload\n",
    "%autoreload 2\n",
    "os.environ[\"CUDA_VISIBLE_DEVICES\"]=\"1\"\n",
    "# from utils import session_config\n",
    "# session_config.setup_gpus(True, 0.95)\n",
    "\n",
    "from matplotlib import pyplot as plt\n",
    "import tensorflow as tf\n",
    "import cv2\n",
    "import numpy as np\n",
    "from functools import partial\n",
    "from utils.iou import compute_iou"
   ]
  },
  {
   "cell_type": "markdown",
   "id": "comprehensive-muscle",
   "metadata": {},
   "source": [
    "# load image information from coco object"
   ]
  },
  {
   "cell_type": "code",
   "execution_count": null,
   "id": "posted-frontier",
   "metadata": {},
   "outputs": [],
   "source": [
    "sys.path.append(\"/home/files/cocoapi/PythonAPI\")\n",
    "from pycocotools.coco import COCO\n",
    "coco = COCO(\"annotations/integrated_annotation.json\")\n",
    "\n",
    "train_ids = np.load(\"annotations/train_ids.npy\")\n",
    "print(\"train-data length : {}\".format(len(train_ids)))\n",
    "val_ids = np.load(\"annotations/val_ids.npy\")\n",
    "print(\"train-data length : {}\".format(len(val_ids)))"
   ]
  },
  {
   "cell_type": "code",
   "execution_count": null,
   "id": "electronic-recall",
   "metadata": {},
   "outputs": [],
   "source": [
    "boxes = np.zeros([19,4])\n",
    "for i in range(19):\n",
    "    boxes[i] = [0,0+0.05*i,1,0.1+0.05*i]\n",
    "def generate(coco, ids, boxes):\n",
    "    for image_id in ids:   \n",
    "        image = coco.loadImgs(int(image_id))\n",
    "        image_array = cv2.imread(\"detection\" + image[0][\"path\"])[:,:,::-1]\n",
    "        anno_ids = coco.getAnnIds(imgIds=int(image_id), catIds=[0], iscrowd=None)\n",
    "        anns = coco.loadAnns(anno_ids)\n",
    "\n",
    "        image_array = image_array[np.newaxis,...]\n",
    "        patches = tf.image.extract_patches(images=image_array,\n",
    "                                   sizes=[1, 1000, 1024, 1],\n",
    "                                   strides=[1, 500, 1, 1],\n",
    "                                   rates=[1, 1, 1, 1],\n",
    "                                   padding='VALID')\n",
    "        patches = tf.squeeze(patches)\n",
    "        patches = tf.reshape(patches, (19, 1000,1024,3))\n",
    "        patches = tf.image.resize(patches, (224,224), method=\"area\")\n",
    "        bbox = []\n",
    "        for ann in anns:\n",
    "            x,y,w,h = ann[\"bbox\"]\n",
    "            x,y,w,h = x/2024,y/10000,w/2024,h/10000\n",
    "            bbox.append([x,y,x+w,y+h])   \n",
    "        bbox = np.array(bbox)        \n",
    "        ious = compute_iou(bbox, boxes)\n",
    "        ious = np.sum(ious, axis=0)\n",
    "        ious = tf.squeeze(ious)\n",
    "        labels = tf.where(ious>0, 1, 0)\n",
    "        yield patches, labels"
   ]
  },
  {
   "cell_type": "code",
   "execution_count": null,
   "id": "boxed-terrace",
   "metadata": {},
   "outputs": [],
   "source": [
    "def data_process(images, labels):\n",
    "    images = tf.reshape(images, [-1,224,224,3])\n",
    "    images = tf.cast(images, tf.float32)\n",
    "    images = tf.keras.applications.resnet_v2.preprocess_input(images)\n",
    "    labels = tf.reshape(labels, [-1])\n",
    "    return images, labels\n",
    "\n",
    "batch_size = 6; AUTOTUNE = tf.data.experimental.AUTOTUNE;\n",
    "\n",
    "train_gen = partial(generate, coco, train_ids, boxes)\n",
    "val_gen = partial(generate, coco, val_ids, boxes)\n",
    "# generate data pipeline with from_generator in TensorFlow dataset APIs\n",
    "train_ds = tf.data.Dataset.from_generator(train_gen, (tf.uint8, tf.int32))\n",
    "val_ds = tf.data.Dataset.from_generator(val_gen, (tf.uint8, tf.int32), output_shapes=((19,224,224,3), (19,)))\n",
    "\n",
    "# dataset pipeline\n",
    "train_ds = train_ds.cache().shuffle(buffer_size=1000).batch(batch_size).map(data_process).prefetch(buffer_size=AUTOTUNE)\n",
    "val_ds = val_ds.cache().batch(batch_size).map(data_process).prefetch(buffer_size=AUTOTUNE)"
   ]
  },
  {
   "cell_type": "code",
   "execution_count": null,
   "id": "announced-commons",
   "metadata": {},
   "outputs": [],
   "source": [
    "for images, labels in train_ds.take(5):\n",
    "    print(images.shape)\n",
    "    print(labels.shape)"
   ]
  },
  {
   "cell_type": "code",
   "execution_count": null,
   "id": "aggressive-request",
   "metadata": {},
   "outputs": [],
   "source": [
    "for images, labels in val_ds.take(1):\n",
    "    print(images.shape)\n",
    "    print(labels.shape)"
   ]
  },
  {
   "cell_type": "markdown",
   "id": "insured-preservation",
   "metadata": {},
   "source": [
    "# 모델 빌드 및 학습"
   ]
  },
  {
   "cell_type": "code",
   "execution_count": null,
   "id": "noble-third",
   "metadata": {},
   "outputs": [],
   "source": [
    "resnet = tf.keras.applications.ResNet50V2(include_top=False, \n",
    "                                         weights='imagenet', \n",
    "                                         input_shape=(224,224,3))"
   ]
  },
  {
   "cell_type": "code",
   "execution_count": null,
   "id": "aboriginal-execution",
   "metadata": {},
   "outputs": [],
   "source": [
    "model = tf.keras.Sequential([resnet,\n",
    "                             tf.keras.layers.GlobalAveragePooling2D(),\n",
    "                             tf.keras.layers.Dense(128, activation='relu'),\n",
    "                             tf.keras.layers.Dense(1, activation=None),\n",
    "                             tf.keras.layers.Softmax()])                             "
   ]
  },
  {
   "cell_type": "code",
   "execution_count": null,
   "id": "aware-friday",
   "metadata": {},
   "outputs": [],
   "source": [
    "@tf.function\n",
    "def train_step(images, labels, model):\n",
    "    with tf.GradientTape() as tape:\n",
    "        preds = model(images, training=True)\n",
    "        loss = loss_object(labels,preds)\n",
    "    gradients = tape.gradient(loss, model.trainable_variables)\n",
    "    optimizer.apply_gradients(zip(gradients, model.trainable_variables))\n",
    "    loss(loss)\n",
    "    acc(labels, preds)\n",
    "@tf.function\n",
    "def test_step(images, labels, model):\n",
    "    preds = model(images, training=False)\n",
    "    loss = loss_object(labels,preds)\n",
    "    test_loss(loss)\n",
    "    test_acc(labels, preds)"
   ]
  },
  {
   "cell_type": "code",
   "execution_count": null,
   "id": "standard-module",
   "metadata": {},
   "outputs": [],
   "source": [
    "loss = tf.keras.metrics.Mean(name='train_loss')\n",
    "acc = tf.keras.metrics.SparseCategoricalAccuracy(name='train_accuracy')\n",
    "test_loss = tf.keras.metrics.Mean(name='test_loss')\n",
    "test_acc = tf.keras.metrics.SparseCategoricalAccuracy(name='test_accuracy')\n",
    "template = \"Epoch {} : train loss {:5f}, accuracy {:.3f}, val loss {:5f}, val accuracy {:.3f}\"\n",
    "\n",
    "optimizer = tf.keras.optimizers.Adam(learning_rate=1E-3)\n",
    "loss_object = tf.keras.losses.SparseCategoricalCrossentropy()\n",
    "EPOCH = 1\n",
    "for epoch in range(1, EPOCH+1):\n",
    "    loss.reset_states()\n",
    "    acc.reset_states()\n",
    "    test_loss.reset_states()\n",
    "    test_acc.reset_states()\n",
    "    for images, labels in train_ds:\n",
    "        print(\"one iteration\")\n",
    "        train_step(images, labels, model)\n",
    "    for images, labels in val_ds:\n",
    "        test_step(images, labels, model) \n",
    "    print(template.format(epoch,\n",
    "                          loss.result().numpy(),\n",
    "                          acc.result().numpy(),\n",
    "                         test_loss.result().numpy(),\n",
    "                         test_acc.result().numpy()))"
   ]
  },
  {
   "cell_type": "code",
   "execution_count": null,
   "id": "ideal-virginia",
   "metadata": {},
   "outputs": [],
   "source": []
  },
  {
   "cell_type": "code",
   "execution_count": null,
   "id": "fantastic-stream",
   "metadata": {},
   "outputs": [],
   "source": []
  },
  {
   "cell_type": "code",
   "execution_count": null,
   "id": "religious-review",
   "metadata": {},
   "outputs": [],
   "source": []
  }
 ],
 "metadata": {
  "kernelspec": {
   "display_name": "Python 3",
   "language": "python",
   "name": "python3"
  },
  "language_info": {
   "codemirror_mode": {
    "name": "ipython",
    "version": 3
   },
   "file_extension": ".py",
   "mimetype": "text/x-python",
   "name": "python",
   "nbconvert_exporter": "python",
   "pygments_lexer": "ipython3",
   "version": "3.6.9"
  }
 },
 "nbformat": 4,
 "nbformat_minor": 5
}
