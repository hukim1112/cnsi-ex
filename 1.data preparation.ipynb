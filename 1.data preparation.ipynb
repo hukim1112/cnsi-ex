{
 "cells": [
  {
   "cell_type": "code",
   "execution_count": null,
   "id": "554fc707",
   "metadata": {},
   "outputs": [],
   "source": [
    "import json, os, sys\n",
    "%load_ext autoreload\n",
    "%autoreload 2\n",
    "os.environ[\"CUDA_VISIBLE_DEVICES\"]=\"1\"\n",
    "# from utils import session_config\n",
    "# session_config.setup_gpus(True, 0.95)\n",
    "\n",
    "from matplotlib import pyplot as plt\n",
    "import tensorflow as tf\n",
    "import cv2\n",
    "import numpy as np\n",
    "from utils.iou import compute_iou"
   ]
  },
  {
   "cell_type": "markdown",
   "id": "84319ed2",
   "metadata": {},
   "source": [
    "# load image information from coco object"
   ]
  },
  {
   "cell_type": "code",
   "execution_count": null,
   "id": "464be520",
   "metadata": {},
   "outputs": [],
   "source": [
    "from pycocotools.coco import COCO\n",
    "coco = COCO(\"annotations/integrated_annotation.json\")\n",
    "\n",
    "train_ids = np.load(\"annotations/train_ids.npy\")\n",
    "print(\"train-data length : {}\".format(len(train_ids)))\n",
    "val_ids = np.load(\"annotations/val_ids.npy\")\n",
    "print(\"train-data length : {}\".format(len(val_ids)))"
   ]
  },
  {
   "cell_type": "markdown",
   "id": "35cc5de3",
   "metadata": {},
   "source": [
    "# Show a image"
   ]
  },
  {
   "cell_type": "code",
   "execution_count": null,
   "id": "85e5873a",
   "metadata": {},
   "outputs": [],
   "source": [
    "image = coco.loadImgs(31748)\n",
    "image_array = cv2.imread(\"detection\" + image[0][\"path\"])[:,:,::-1]"
   ]
  },
  {
   "cell_type": "code",
   "execution_count": null,
   "id": "ed7b3a39",
   "metadata": {},
   "outputs": [],
   "source": [
    "plt.imshow(image_array)"
   ]
  },
  {
   "cell_type": "code",
   "execution_count": null,
   "id": "27f21717",
   "metadata": {},
   "outputs": [],
   "source": [
    "print(image_array.shape)\n",
    "joint_clr = 100\n",
    "gap_clr = 200\n",
    "maskImg = np.zeros((10000, 1024), np.uint8)"
   ]
  },
  {
   "cell_type": "code",
   "execution_count": null,
   "id": "82e8a117",
   "metadata": {},
   "outputs": [],
   "source": [
    "anno_ids = coco.getAnnIds(imgIds=31748, catIds=[0], iscrowd=None)\n",
    "anns = coco.loadAnns(anno_ids)\n",
    "for ann in anns:\n",
    "    pts = []  \n",
    "    for seg in ann['segmentation']:\n",
    "        for i in range(int(len(seg)/2)):\n",
    "            pts.append([int(seg[i*2]), int(seg[i*2+1])])\n",
    "    pts_np = np.array(pts, np.int32)\n",
    "    if pts_np.size != 0:\n",
    "        cv2.fillPoly(maskImg, [pts_np], joint_clr)"
   ]
  },
  {
   "cell_type": "code",
   "execution_count": null,
   "id": "79963860",
   "metadata": {},
   "outputs": [],
   "source": [
    "anno_ids = coco.getAnnIds(imgIds=31748, catIds=[1], iscrowd=None)\n",
    "anns = coco.loadAnns(anno_ids)\n",
    "for ann in anns:\n",
    "    pts = []  \n",
    "    for seg in ann['segmentation']:\n",
    "        for i in range(int(len(seg)/2)):\n",
    "            pts.append([int(seg[i*2]), int(seg[i*2+1])])\n",
    "    pts_np = np.array(pts, np.int32)\n",
    "    if pts_np.size != 0:\n",
    "        cv2.fillPoly(maskImg, [pts_np], gap_clr)"
   ]
  },
  {
   "cell_type": "code",
   "execution_count": null,
   "id": "30d3115d",
   "metadata": {},
   "outputs": [],
   "source": [
    "plt.imshow(maskImg)"
   ]
  },
  {
   "cell_type": "markdown",
   "id": "f5d36785",
   "metadata": {},
   "source": [
    "# Data preparation"
   ]
  },
  {
   "cell_type": "code",
   "execution_count": null,
   "id": "94532116",
   "metadata": {},
   "outputs": [],
   "source": [
    "def masking(maskImg, ann, color):\n",
    "    pts = [] \n",
    "    for seg in ann['segmentation']:\n",
    "        for i in range(int(len(seg)/2)):\n",
    "            pts.append([int(seg[i*2]), int(seg[i*2+1])])\n",
    "    pts_np = np.array(pts, np.int32)\n",
    "    if pts_np.size != 0:\n",
    "        cv2.fillPoly(maskImg, [pts_np], color)\n",
    "        \n",
    "joint_clr = 100\n",
    "gap_clr = 255\n",
    "maskImg = np.zeros((10000, 1024), np.uint8)\n",
    "        \n",
    "anno_ids = coco.getAnnIds(imgIds=31748, catIds=[0], iscrowd=None)\n",
    "anns = coco.loadAnns(anno_ids)\n",
    "masking(maskImg, anns[0], joint_clr)\n",
    "\n",
    "anno_ids = coco.getAnnIds(imgIds=31748, catIds=[1], iscrowd=None)\n",
    "anns = coco.loadAnns(anno_ids)\n",
    "masking(maskImg, anns[0], gap_clr)\n",
    "plt.imshow(maskImg, cmap='gray')"
   ]
  },
  {
   "cell_type": "code",
   "execution_count": null,
   "id": "f572f2fa",
   "metadata": {},
   "outputs": [],
   "source": [
    "image_array = image_array[np.newaxis,...]\n",
    "maskImg = maskImg[np.newaxis,...,np.newaxis]"
   ]
  },
  {
   "cell_type": "code",
   "execution_count": null,
   "id": "2bf05600",
   "metadata": {},
   "outputs": [],
   "source": [
    "print(maskImg.shape)"
   ]
  },
  {
   "cell_type": "code",
   "execution_count": null,
   "id": "21d4779a",
   "metadata": {},
   "outputs": [],
   "source": [
    "patches = tf.image.extract_patches(images=image_array,\n",
    "                           sizes=[1, 1000, 1024, 1],\n",
    "                           strides=[1, 500, 1, 1],\n",
    "                           rates=[1, 1, 1, 1],\n",
    "                           padding='VALID')\n",
    "patches = tf.squeeze(patches)\n",
    "patches = tf.reshape(patches, (19, 1000,1024,3))\n",
    "\n",
    "mask_patches = tf.image.extract_patches(images=maskImg,\n",
    "                           sizes=[1, 1000, 1024,1],\n",
    "                           strides=[1, 500, 1, 1],\n",
    "                           rates=[1, 1, 1,1],\n",
    "                           padding='VALID')\n",
    "mask_patches = tf.squeeze(mask_patches)\n",
    "mask_patches = tf.reshape(mask_patches, (19, 1000,1024))\n",
    "\n",
    "bbox = []\n",
    "for ann in anns:\n",
    "    x,y,w,h = ann[\"bbox\"]\n",
    "    x,y,w,h = x/2024,y/10000,w/2024,h/10000\n",
    "    bbox.append([x,y,x+w,y+h])   \n",
    "bbox = np.array(bbox)\n",
    "    \n",
    "boxes = np.zeros([19,4])\n",
    "for i in range(19):\n",
    "    boxes[i] = [0,0+0.05*i,1,0.1+0.05*i]\n",
    "    \n",
    "ious = compute_iou(bbox, boxes)\n",
    "ious = np.sum(ious, axis=0)\n",
    "ious = tf.squeeze(ious)\n",
    "labels = tf.where(ious>0, 1, 0)"
   ]
  },
  {
   "cell_type": "code",
   "execution_count": null,
   "id": "f0b36f03",
   "metadata": {},
   "outputs": [],
   "source": [
    "plt.imshow(image_array[0])\n",
    "plt.show()\n",
    "print(image_array.shape)\n",
    "print(patches.shape)\n",
    "print(labels)"
   ]
  },
  {
   "cell_type": "code",
   "execution_count": null,
   "id": "a7a560f0",
   "metadata": {},
   "outputs": [],
   "source": [
    "indice = tf.squeeze(tf.where(labels))\n",
    "indice"
   ]
  },
  {
   "cell_type": "code",
   "execution_count": null,
   "id": "32b06530",
   "metadata": {},
   "outputs": [],
   "source": [
    "tf.ones_like(indice)/len(indice)"
   ]
  },
  {
   "cell_type": "code",
   "execution_count": null,
   "id": "4b857ad8",
   "metadata": {},
   "outputs": [],
   "source": [
    "samples = tf.random.categorical(tf.math.log([tf.ones_like(indice)/len(indice)]), 100000)\n",
    "samples"
   ]
  },
  {
   "cell_type": "code",
   "execution_count": null,
   "id": "46525bb3",
   "metadata": {},
   "outputs": [],
   "source": [
    "tf.squeeze(tf.where(labels))[samples[0,0]]"
   ]
  },
  {
   "cell_type": "code",
   "execution_count": null,
   "id": "0e295297",
   "metadata": {},
   "outputs": [],
   "source": []
  },
  {
   "cell_type": "code",
   "execution_count": null,
   "id": "865ae26e",
   "metadata": {},
   "outputs": [],
   "source": []
  },
  {
   "cell_type": "code",
   "execution_count": null,
   "id": "6059f773",
   "metadata": {},
   "outputs": [],
   "source": []
  },
  {
   "cell_type": "code",
   "execution_count": null,
   "id": "def15cce",
   "metadata": {},
   "outputs": [],
   "source": [
    "fig = plt.figure()\n",
    "for i in range(20):\n",
    "    if i != 19:\n",
    "        ax = fig.add_subplot(5,4,i+1)\n",
    "        ax.imshow(patches[i])"
   ]
  },
  {
   "cell_type": "code",
   "execution_count": null,
   "id": "76235e86",
   "metadata": {},
   "outputs": [],
   "source": [
    "fig = plt.figure()\n",
    "for i in range(20):\n",
    "    if i != 19:\n",
    "        ax = fig.add_subplot(5,4,i+1)\n",
    "        ax.imshow(mask_patches[i])"
   ]
  },
  {
   "cell_type": "code",
   "execution_count": null,
   "id": "23c82627",
   "metadata": {},
   "outputs": [],
   "source": []
  }
 ],
 "metadata": {
  "kernelspec": {
   "display_name": "Python 3",
   "language": "python",
   "name": "python3"
  },
  "language_info": {
   "codemirror_mode": {
    "name": "ipython",
    "version": 3
   },
   "file_extension": ".py",
   "mimetype": "text/x-python",
   "name": "python",
   "nbconvert_exporter": "python",
   "pygments_lexer": "ipython3",
   "version": "3.6.9"
  }
 },
 "nbformat": 4,
 "nbformat_minor": 5
}
