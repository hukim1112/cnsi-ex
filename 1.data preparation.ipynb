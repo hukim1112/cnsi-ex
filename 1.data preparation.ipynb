{
 "cells": [
  {
   "cell_type": "code",
   "execution_count": null,
   "metadata": {},
   "outputs": [],
   "source": [
    "import json, os, sys\n",
    "%load_ext autoreload\n",
    "%autoreload 2\n",
    "os.environ[\"CUDA_VISIBLE_DEVICES\"]=\"1\"\n",
    "# from utils import session_config\n",
    "# session_config.setup_gpus(True, 0.95)\n",
    "\n",
    "from matplotlib import pyplot as plt\n",
    "import tensorflow as tf\n",
    "import cv2\n",
    "import numpy as np\n",
    "from utils.iou import compute_iou"
   ]
  },
  {
   "cell_type": "markdown",
   "metadata": {},
   "source": [
    "# load image information from coco object"
   ]
  },
  {
   "cell_type": "code",
   "execution_count": null,
   "metadata": {},
   "outputs": [],
   "source": [
    "sys.path.append(\"/home/files/cocoapi/PythonAPI\")\n",
    "from pycocotools.coco import COCO\n",
    "coco = COCO(\"annotations/integrated_annotation.json\")\n",
    "\n",
    "train_ids = np.load(\"annotations/train_ids.npy\")\n",
    "print(\"train-data length : {}\".format(len(train_ids)))\n",
    "val_ids = np.load(\"annotations/val_ids.npy\")\n",
    "print(\"train-data length : {}\".format(len(val_ids)))"
   ]
  },
  {
   "cell_type": "code",
   "execution_count": null,
   "metadata": {},
   "outputs": [],
   "source": []
  },
  {
   "cell_type": "markdown",
   "metadata": {},
   "source": [
    "# Show a image"
   ]
  },
  {
   "cell_type": "code",
   "execution_count": null,
   "metadata": {},
   "outputs": [],
   "source": [
    "image = coco.loadImgs(33877)\n",
    "image_array = cv2.imread(\"detection\" + image[0][\"path\"])[:,:,::-1]\n",
    "anno_ids = coco.getAnnIds(imgIds=33877, catIds=[0], iscrowd=None)\n",
    "anns = coco.loadAnns(anno_ids)\n",
    "\n",
    "image_array = image_array[np.newaxis,...]\n",
    "patches = tf.image.extract_patches(images=image_array,\n",
    "                           sizes=[1, 1000, 1024, 1],\n",
    "                           strides=[1, 500, 1, 1],\n",
    "                           rates=[1, 1, 1, 1],\n",
    "                           padding='VALID')\n",
    "patches = tf.squeeze(patches)\n",
    "patches = tf.reshape(patches, (19, 1000,1024,3))\n",
    "\n",
    "bbox = []\n",
    "for ann in anns:\n",
    "    x,y,w,h = ann[\"bbox\"]\n",
    "    x,y,w,h = x/2024,y/10000,w/2024,h/10000\n",
    "    bbox.append([x,y,x+w,y+h])   \n",
    "bbox = np.array(bbox)\n",
    "    \n",
    "boxes = np.zeros([19,4])\n",
    "for i in range(19):\n",
    "    boxes[i] = [0,0+0.05*i,1,0.1+0.05*i]\n",
    "    \n",
    "ious = compute_iou(bbox, boxes)\n",
    "ious = np.sum(ious, axis=0)\n",
    "ious = tf.squeeze(ious)\n",
    "labels = tf.where(ious>0, 1, 0)"
   ]
  },
  {
   "cell_type": "code",
   "execution_count": null,
   "metadata": {},
   "outputs": [],
   "source": [
    "plt.imshow(image_array[0])\n",
    "plt.show()\n",
    "print(image_array.shape)\n",
    "print(patches.shape)\n",
    "print(labels)"
   ]
  },
  {
   "cell_type": "code",
   "execution_count": null,
   "metadata": {},
   "outputs": [],
   "source": [
    "fig = plt.figure()\n",
    "for i in range(20):\n",
    "    if i != 19:\n",
    "        ax = fig.add_subplot(5,4,i+1)\n",
    "        ax.imshow(patches[i])"
   ]
  }
 ],
 "metadata": {
  "kernelspec": {
   "display_name": "Python 3",
   "language": "python",
   "name": "python3"
  },
  "language_info": {
   "codemirror_mode": {
    "name": "ipython",
    "version": 3
   },
   "file_extension": ".py",
   "mimetype": "text/x-python",
   "name": "python",
   "nbconvert_exporter": "python",
   "pygments_lexer": "ipython3",
   "version": "3.6.9"
  }
 },
 "nbformat": 4,
 "nbformat_minor": 5
}
