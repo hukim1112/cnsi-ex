{
 "cells": [
  {
   "cell_type": "code",
   "execution_count": 119,
   "id": "animated-arcade",
   "metadata": {},
   "outputs": [
    {
     "name": "stdout",
     "output_type": "stream",
     "text": [
      "The autoreload extension is already loaded. To reload it, use:\n",
      "  %reload_ext autoreload\n"
     ]
    }
   ],
   "source": [
    "import json, os, sys\n",
    "%load_ext autoreload\n",
    "%autoreload 2\n",
    "os.environ[\"CUDA_VISIBLE_DEVICES\"]=\"0\"\n",
    "# from utils import session_config\n",
    "# session_config.setup_gpus(True, 0.95)\n",
    "\n",
    "\n",
    "from matplotlib import pyplot as plt\n",
    "import tensorflow as tf\n",
    "import cv2\n",
    "import numpy as np"
   ]
  },
  {
   "cell_type": "code",
   "execution_count": null,
   "id": "european-vehicle",
   "metadata": {},
   "outputs": [],
   "source": []
  },
  {
   "cell_type": "code",
   "execution_count": null,
   "id": "interpreted-classics",
   "metadata": {},
   "outputs": [],
   "source": []
  },
  {
   "cell_type": "code",
   "execution_count": null,
   "id": "combined-imaging",
   "metadata": {},
   "outputs": [],
   "source": []
  },
  {
   "cell_type": "code",
   "execution_count": null,
   "id": "special-istanbul",
   "metadata": {},
   "outputs": [],
   "source": []
  },
  {
   "cell_type": "code",
   "execution_count": 120,
   "id": "closed-prime",
   "metadata": {},
   "outputs": [],
   "source": [
    "sys.path.append(\"/home/files/cocoapi/PythonAPI\")\n",
    "from pycocotools.coco import COCO"
   ]
  },
  {
   "cell_type": "code",
   "execution_count": 121,
   "id": "portuguese-anaheim",
   "metadata": {},
   "outputs": [
    {
     "name": "stdout",
     "output_type": "stream",
     "text": [
      "loading annotations into memory...\n",
      "Done (t=0.11s)\n",
      "creating index...\n",
      "index created!\n"
     ]
    }
   ],
   "source": [
    "coco = COCO(\"annotations/NEXUS_YHE.json\")"
   ]
  },
  {
   "cell_type": "code",
   "execution_count": 122,
   "id": "union-german",
   "metadata": {},
   "outputs": [],
   "source": [
    "ids = coco.getImgIds()"
   ]
  },
  {
   "cell_type": "code",
   "execution_count": 123,
   "id": "other-russian",
   "metadata": {},
   "outputs": [
    {
     "data": {
      "text/plain": [
       "38377"
      ]
     },
     "execution_count": 123,
     "metadata": {},
     "output_type": "execute_result"
    }
   ],
   "source": [
    "ids[0]"
   ]
  },
  {
   "cell_type": "code",
   "execution_count": 124,
   "id": "drawn-karma",
   "metadata": {},
   "outputs": [],
   "source": [
    "image_info = coco.loadImgs(38377)"
   ]
  },
  {
   "cell_type": "code",
   "execution_count": 125,
   "id": "organized-noise",
   "metadata": {},
   "outputs": [
    {
     "data": {
      "text/plain": [
       "[{'id': 38377,\n",
       "  'dataset_id': 22,\n",
       "  'category_ids': [26, 27],\n",
       "  'path': '/datasets/NEXUS_YHE/0009154.jpg',\n",
       "  'width': 1024,\n",
       "  'height': 10000,\n",
       "  'file_name': '0009154.jpg',\n",
       "  'annotated': True,\n",
       "  'annotating': [],\n",
       "  'num_annotations': 1,\n",
       "  'metadata': {},\n",
       "  'milliseconds': 157916,\n",
       "  'events': [{'_cls': 'SessionEvent',\n",
       "    'user': 'YHE',\n",
       "    'milliseconds': 142700,\n",
       "    'tools_used': []},\n",
       "   {'_cls': 'SessionEvent',\n",
       "    'user': 'YHE',\n",
       "    'milliseconds': 15216,\n",
       "    'tools_used': []}],\n",
       "  'regenerate_thumbnail': False,\n",
       "  'is_modified': False}]"
      ]
     },
     "execution_count": 125,
     "metadata": {},
     "output_type": "execute_result"
    }
   ],
   "source": [
    "image_info"
   ]
  },
  {
   "cell_type": "code",
   "execution_count": 127,
   "id": "portuguese-musician",
   "metadata": {},
   "outputs": [],
   "source": [
    "ann_ids = coco.getAnnIds(imgIds=38377, catIds=[26,27], iscrowd=None)"
   ]
  },
  {
   "cell_type": "code",
   "execution_count": 128,
   "id": "affecting-vegetable",
   "metadata": {},
   "outputs": [
    {
     "data": {
      "text/plain": [
       "[7402, 7403]"
      ]
     },
     "execution_count": 128,
     "metadata": {},
     "output_type": "execute_result"
    }
   ],
   "source": [
    "ann_ids"
   ]
  },
  {
   "cell_type": "code",
   "execution_count": 129,
   "id": "satisfied-pharmacology",
   "metadata": {},
   "outputs": [
    {
     "data": {
      "text/plain": [
       "[{'id': 7402,\n",
       "  'image_id': 38377,\n",
       "  'category_id': 26,\n",
       "  'dataset_id': 22,\n",
       "  'segmentation': [[1024.6, 5539.5, 1024.6, 5636.6, -0.7, 5531.2, 0.4, 5433]],\n",
       "  'area': 99999,\n",
       "  'bbox': [0, 5433, 1024, 203],\n",
       "  'iscrowd': False,\n",
       "  'isbbox': False,\n",
       "  'creator': 'YHE',\n",
       "  'width': 1024,\n",
       "  'height': 10000,\n",
       "  'color': '#d005df',\n",
       "  'metadata': {},\n",
       "  'milliseconds': 10966,\n",
       "  'events': [{'_cls': 'SessionEvent',\n",
       "    'created_at': {'$date': 1594136168862},\n",
       "    'user': 'YHE',\n",
       "    'milliseconds': 10966,\n",
       "    'tools_used': ['Polygon']}]},\n",
       " {'id': 7403,\n",
       "  'image_id': 38377,\n",
       "  'category_id': 27,\n",
       "  'dataset_id': 22,\n",
       "  'segmentation': [[-0.7,\n",
       "    5472.3,\n",
       "    31.4,\n",
       "    5474.4,\n",
       "    88.2,\n",
       "    5470.2,\n",
       "    93.4,\n",
       "    5472.3,\n",
       "    108.9,\n",
       "    5474.4,\n",
       "    144.5,\n",
       "    5489.4,\n",
       "    161.3,\n",
       "    5492.2,\n",
       "    174.5,\n",
       "    5493.1,\n",
       "    206,\n",
       "    5487.8,\n",
       "    251.1,\n",
       "    5489.4,\n",
       "    279.4,\n",
       "    5495,\n",
       "    304.2,\n",
       "    5506.4,\n",
       "    368.3,\n",
       "    5502.3,\n",
       "    368.3,\n",
       "    5501.2,\n",
       "    399.6,\n",
       "    5503.3,\n",
       "    450,\n",
       "    5519.8,\n",
       "    488.9,\n",
       "    5523.7,\n",
       "    519.7,\n",
       "    5520.6,\n",
       "    551.2,\n",
       "    5519.8,\n",
       "    591.7,\n",
       "    5533.7,\n",
       "    613.3,\n",
       "    5538.5,\n",
       "    616.4,\n",
       "    5537.4,\n",
       "    653.6,\n",
       "    5539.5,\n",
       "    686.6,\n",
       "    5534.3,\n",
       "    714.9,\n",
       "    5538.9,\n",
       "    742.4,\n",
       "    5549.8,\n",
       "    763.1,\n",
       "    5552.9,\n",
       "    807.6,\n",
       "    5547.8,\n",
       "    839.2,\n",
       "    5547.2,\n",
       "    871.6,\n",
       "    5555,\n",
       "    896.4,\n",
       "    5564.3,\n",
       "    935.7,\n",
       "    5568.4,\n",
       "    959.5,\n",
       "    5563.3,\n",
       "    962.6,\n",
       "    5564.3,\n",
       "    987.4,\n",
       "    5562.2,\n",
       "    987.4,\n",
       "    5563.3,\n",
       "    1003.9,\n",
       "    5564.3,\n",
       "    1023.6,\n",
       "    5572.6,\n",
       "    1024.6,\n",
       "    5606.7,\n",
       "    1012.2,\n",
       "    5602.9,\n",
       "    997.7,\n",
       "    5596,\n",
       "    955.1,\n",
       "    5590.5,\n",
       "    912.2,\n",
       "    5594.6,\n",
       "    875.8,\n",
       "    5591.2,\n",
       "    813.8,\n",
       "    5573.6,\n",
       "    808.6,\n",
       "    5577.7,\n",
       "    781.7,\n",
       "    5576.7,\n",
       "    753.8,\n",
       "    5580.8,\n",
       "    731.1,\n",
       "    5578.8,\n",
       "    710.4,\n",
       "    5566.4,\n",
       "    694.9,\n",
       "    5563.3,\n",
       "    597.8,\n",
       "    5566.4,\n",
       "    570.9,\n",
       "    5560.2,\n",
       "    545,\n",
       "    5548.8,\n",
       "    509.9,\n",
       "    5544.7,\n",
       "    469.6,\n",
       "    5552.9,\n",
       "    430.3,\n",
       "    5547.8,\n",
       "    383.8,\n",
       "    5531.2,\n",
       "    350.7,\n",
       "    5529.2,\n",
       "    323.9,\n",
       "    5534.3,\n",
       "    323.9,\n",
       "    5535.4,\n",
       "    291.8,\n",
       "    5536.4,\n",
       "    253.6,\n",
       "    5519.8,\n",
       "    234,\n",
       "    5515.7,\n",
       "    200.8,\n",
       "    5513.6,\n",
       "    169.9,\n",
       "    5518.8,\n",
       "    139.9,\n",
       "    5520.9,\n",
       "    106.8,\n",
       "    5508.5,\n",
       "    86.2,\n",
       "    5503.3,\n",
       "    58.3,\n",
       "    5500.2,\n",
       "    30.9,\n",
       "    5500.3,\n",
       "    0.3,\n",
       "    5503.2,\n",
       "    -0.7,\n",
       "    5469.2]],\n",
       "  'area': 30246,\n",
       "  'bbox': [0, 5470, 1024, 136],\n",
       "  'iscrowd': False,\n",
       "  'isbbox': False,\n",
       "  'creator': 'YHE',\n",
       "  'width': 1024,\n",
       "  'height': 10000,\n",
       "  'color': '#48f033',\n",
       "  'metadata': {},\n",
       "  'milliseconds': 125117,\n",
       "  'events': [{'_cls': 'SessionEvent',\n",
       "    'created_at': {'$date': 1594136179829},\n",
       "    'user': 'YHE',\n",
       "    'milliseconds': 125117,\n",
       "    'tools_used': ['Polygon', 'Select']}]}]"
      ]
     },
     "execution_count": 129,
     "metadata": {},
     "output_type": "execute_result"
    }
   ],
   "source": [
    "coco.loadAnns(ann_ids)"
   ]
  },
  {
   "cell_type": "code",
   "execution_count": null,
   "id": "bibliographic-knowing",
   "metadata": {},
   "outputs": [],
   "source": []
  },
  {
   "cell_type": "code",
   "execution_count": 132,
   "id": "latest-attraction",
   "metadata": {},
   "outputs": [],
   "source": [
    "import os, json\n",
    "_list = os.listdir(\"annotations\")"
   ]
  },
  {
   "cell_type": "code",
   "execution_count": 133,
   "id": "ethical-marina",
   "metadata": {},
   "outputs": [
    {
     "data": {
      "text/plain": [
       "['NEXUS_so1093.json',\n",
       " 'NEXUS_YHE.json',\n",
       " 'NEXUS_choi3295.json',\n",
       " 'NEXUS_Kim12610.json',\n",
       " 'NEXUS_ewig1006.json']"
      ]
     },
     "execution_count": 133,
     "metadata": {},
     "output_type": "execute_result"
    }
   ],
   "source": [
    "for i in _list:\n",
    "    with open( os.path.join(\"annotations\", i), 'r') as file:\n",
    "        \n",
    "\n",
    "\n",
    "_list"
   ]
  },
  {
   "cell_type": "code",
   "execution_count": 200,
   "id": "beautiful-acting",
   "metadata": {},
   "outputs": [
    {
     "name": "stdout",
     "output_type": "stream",
     "text": [
      "dict_keys(['images', 'categories', 'annotations'])\n"
     ]
    }
   ],
   "source": [
    "with open(\"annotations/NEXUS_so1093.json\", 'r') as file:\n",
    "    json_file = json.load(file)\n",
    "\n",
    "print(json_file.keys())"
   ]
  },
  {
   "cell_type": "code",
   "execution_count": 201,
   "id": "linear-calculation",
   "metadata": {},
   "outputs": [],
   "source": [
    "json_file['categories'][0][\"id\"] = 0\n",
    "json_file['categories'][1][\"id\"] = 1"
   ]
  },
  {
   "cell_type": "code",
   "execution_count": 202,
   "id": "spread-fundamental",
   "metadata": {},
   "outputs": [],
   "source": [
    "json_file = convert_annodata(json_file)"
   ]
  },
  {
   "cell_type": "code",
   "execution_count": 203,
   "id": "crazy-governor",
   "metadata": {},
   "outputs": [],
   "source": [
    "json_file = convert_imagedata(json_file)"
   ]
  },
  {
   "cell_type": "code",
   "execution_count": null,
   "id": "excited-wholesale",
   "metadata": {},
   "outputs": [],
   "source": []
  },
  {
   "cell_type": "code",
   "execution_count": 208,
   "id": "certain-viking",
   "metadata": {},
   "outputs": [
    {
     "name": "stdout",
     "output_type": "stream",
     "text": [
      "dict_keys(['images', 'categories', 'annotations'])\n"
     ]
    }
   ],
   "source": [
    "with open(\"annotations/NEXUS_ewig1006.json\", 'r') as file:\n",
    "    new_json = json.load(file)\n",
    "\n",
    "print(new_json.keys())\n",
    "new_json = convert_annodata(new_json)\n",
    "new_json = convert_imagedata(new_json)\n",
    "\n",
    "json_file[\"images\"] = json_file[\"images\"]+new_json[\"images\"]\n",
    "json_file[\"annotations\"] = json_file[\"annotations\"]+new_json[\"annotations\"]"
   ]
  },
  {
   "cell_type": "code",
   "execution_count": 213,
   "id": "theoretical-profession",
   "metadata": {},
   "outputs": [],
   "source": [
    "!rm -f integrated_annotations.json"
   ]
  },
  {
   "cell_type": "code",
   "execution_count": 216,
   "id": "prime-partnership",
   "metadata": {},
   "outputs": [],
   "source": [
    "with open(\"integrated_annotation.json\", 'w') as file:\n",
    "    json.dump(json_file, file)"
   ]
  },
  {
   "cell_type": "code",
   "execution_count": null,
   "id": "fleet-range",
   "metadata": {},
   "outputs": [],
   "source": []
  },
  {
   "cell_type": "code",
   "execution_count": null,
   "id": "white-entity",
   "metadata": {},
   "outputs": [],
   "source": []
  },
  {
   "cell_type": "code",
   "execution_count": 176,
   "id": "equivalent-simpson",
   "metadata": {},
   "outputs": [],
   "source": [
    "def convert_imagedata(json_file):\n",
    "    for i in json_file[\"images\"]:\n",
    "        tmp = []\n",
    "        for x in i[\"category_ids\"]:\n",
    "            if x == 26:\n",
    "                tmp.append(0)\n",
    "            elif x == 27:\n",
    "                tmp.append(1)\n",
    "            else:\n",
    "                raise ValueError(\"no\")\n",
    "        i[\"category_ids\"] = tmp\n",
    "    return json_file\n",
    "\n",
    "def convert_annodata(json_file):\n",
    "    for i in json_file[\"annotations\"]:\n",
    "        if i[\"category_id\"] == 26:\n",
    "            i[\"category_id\"] = 0\n",
    "        elif i[\"category_id\"] == 27:\n",
    "            i[\"category_id\"] = 1\n",
    "        else:\n",
    "            raise ValueError(\"no\")\n",
    "    return json_file"
   ]
  },
  {
   "cell_type": "code",
   "execution_count": null,
   "id": "italic-active",
   "metadata": {},
   "outputs": [],
   "source": []
  },
  {
   "cell_type": "code",
   "execution_count": null,
   "id": "solved-parish",
   "metadata": {},
   "outputs": [],
   "source": []
  },
  {
   "cell_type": "code",
   "execution_count": null,
   "id": "accompanied-despite",
   "metadata": {},
   "outputs": [],
   "source": []
  },
  {
   "cell_type": "code",
   "execution_count": 146,
   "id": "robust-coordination",
   "metadata": {},
   "outputs": [
    {
     "data": {
      "text/plain": [
       "{'id': 33808,\n",
       " 'image_id': 36127,\n",
       " 'category_id': 27,\n",
       " 'dataset_id': 20,\n",
       " 'segmentation': [[0.4,\n",
       "   5386.5,\n",
       "   1026.3,\n",
       "   5387.5,\n",
       "   1025.3,\n",
       "   5415.2,\n",
       "   1.4,\n",
       "   5416.2,\n",
       "   1.4,\n",
       "   5388.5]],\n",
       " 'area': 29261,\n",
       " 'bbox': [1, 5387, 1023, 29],\n",
       " 'iscrowd': False,\n",
       " 'isbbox': False,\n",
       " 'creator': 'choi3295',\n",
       " 'width': 1024,\n",
       " 'height': 10000,\n",
       " 'color': '#8678df',\n",
       " 'metadata': {},\n",
       " 'milliseconds': 12538,\n",
       " 'events': []}"
      ]
     },
     "execution_count": 146,
     "metadata": {},
     "output_type": "execute_result"
    }
   ],
   "source": []
  },
  {
   "cell_type": "code",
   "execution_count": null,
   "id": "moral-probability",
   "metadata": {},
   "outputs": [],
   "source": []
  },
  {
   "cell_type": "code",
   "execution_count": null,
   "id": "north-frost",
   "metadata": {},
   "outputs": [],
   "source": []
  },
  {
   "cell_type": "code",
   "execution_count": null,
   "id": "prerequisite-burns",
   "metadata": {},
   "outputs": [],
   "source": []
  },
  {
   "cell_type": "code",
   "execution_count": null,
   "id": "approved-shoulder",
   "metadata": {},
   "outputs": [],
   "source": []
  },
  {
   "cell_type": "code",
   "execution_count": null,
   "id": "copyrighted-start",
   "metadata": {},
   "outputs": [],
   "source": []
  },
  {
   "cell_type": "code",
   "execution_count": null,
   "id": "liquid-karma",
   "metadata": {},
   "outputs": [],
   "source": []
  },
  {
   "cell_type": "code",
   "execution_count": 135,
   "id": "beginning-calgary",
   "metadata": {},
   "outputs": [
    {
     "data": {
      "text/plain": [
       "dict_keys(['images', 'categories', 'annotations'])"
      ]
     },
     "execution_count": 135,
     "metadata": {},
     "output_type": "execute_result"
    }
   ],
   "source": [
    "json_.keys()"
   ]
  },
  {
   "cell_type": "code",
   "execution_count": 136,
   "id": "virtual-zealand",
   "metadata": {},
   "outputs": [
    {
     "data": {
      "text/plain": [
       "[{'id': 26,\n",
       "  'name': 'joint',\n",
       "  'supercategory': 'lane',\n",
       "  'color': '#f0d171',\n",
       "  'metadata': {},\n",
       "  'creator': 'lsm',\n",
       "  'keypoint_colors': []},\n",
       " {'id': 27,\n",
       "  'name': 'gap',\n",
       "  'supercategory': 'lane',\n",
       "  'color': '#a7dc2e',\n",
       "  'metadata': {},\n",
       "  'creator': 'lsm',\n",
       "  'keypoint_colors': []}]"
      ]
     },
     "execution_count": 136,
     "metadata": {},
     "output_type": "execute_result"
    }
   ],
   "source": [
    "json_['categories']"
   ]
  },
  {
   "cell_type": "code",
   "execution_count": 113,
   "id": "regulated-poverty",
   "metadata": {},
   "outputs": [
    {
     "data": {
      "text/plain": [
       "{'id': 38377,\n",
       " 'dataset_id': 22,\n",
       " 'category_ids': [26, 27],\n",
       " 'path': '/datasets/NEXUS_YHE/0009154.jpg',\n",
       " 'width': 1024,\n",
       " 'height': 10000,\n",
       " 'file_name': '0009154.jpg',\n",
       " 'annotated': True,\n",
       " 'annotating': [],\n",
       " 'num_annotations': 1,\n",
       " 'metadata': {},\n",
       " 'milliseconds': 157916,\n",
       " 'events': [{'_cls': 'SessionEvent',\n",
       "   'user': 'YHE',\n",
       "   'milliseconds': 142700,\n",
       "   'tools_used': []},\n",
       "  {'_cls': 'SessionEvent',\n",
       "   'user': 'YHE',\n",
       "   'milliseconds': 15216,\n",
       "   'tools_used': []}],\n",
       " 'regenerate_thumbnail': False,\n",
       " 'is_modified': False}"
      ]
     },
     "execution_count": 113,
     "metadata": {},
     "output_type": "execute_result"
    }
   ],
   "source": [
    "json_[\"images\"][0]"
   ]
  },
  {
   "cell_type": "code",
   "execution_count": 118,
   "id": "retired-leader",
   "metadata": {},
   "outputs": [
    {
     "data": {
      "text/plain": [
       "{'id': 7402,\n",
       " 'image_id': 38377,\n",
       " 'category_id': 26,\n",
       " 'dataset_id': 22,\n",
       " 'segmentation': [[1024.6, 5539.5, 1024.6, 5636.6, -0.7, 5531.2, 0.4, 5433]],\n",
       " 'area': 99999,\n",
       " 'bbox': [0, 5433, 1024, 203],\n",
       " 'iscrowd': False,\n",
       " 'isbbox': False,\n",
       " 'creator': 'YHE',\n",
       " 'width': 1024,\n",
       " 'height': 10000,\n",
       " 'color': '#d005df',\n",
       " 'metadata': {},\n",
       " 'milliseconds': 10966,\n",
       " 'events': [{'_cls': 'SessionEvent',\n",
       "   'created_at': {'$date': 1594136168862},\n",
       "   'user': 'YHE',\n",
       "   'milliseconds': 10966,\n",
       "   'tools_used': ['Polygon']}]}"
      ]
     },
     "execution_count": 118,
     "metadata": {},
     "output_type": "execute_result"
    }
   ],
   "source": [
    "json_[\"annotations\"][0]"
   ]
  },
  {
   "cell_type": "code",
   "execution_count": 2,
   "id": "infrared-freeware",
   "metadata": {},
   "outputs": [],
   "source": [
    "directories = os.listdir(\"detection\")"
   ]
  },
  {
   "cell_type": "code",
   "execution_count": 89,
   "id": "working-chassis",
   "metadata": {},
   "outputs": [],
   "source": [
    "def get_dirpath(root):\n",
    "    _list = os.listdir(root)\n",
    "    _list = [os.path.join(root, l) for l in _list if os.path.isdir(os.path.join(root, l))]\n",
    "    return _list"
   ]
  },
  {
   "cell_type": "code",
   "execution_count": 90,
   "id": "monthly-fishing",
   "metadata": {},
   "outputs": [],
   "source": [
    "lists = get_dirpath(\"detection\")"
   ]
  },
  {
   "cell_type": "code",
   "execution_count": 91,
   "id": "provincial-partnership",
   "metadata": {
    "scrolled": true
   },
   "outputs": [
    {
     "data": {
      "text/plain": [
       "<matplotlib.image.AxesImage at 0x7efcf84efc50>"
      ]
     },
     "execution_count": 91,
     "metadata": {},
     "output_type": "execute_result"
    },
    {
     "data": {
      "image/png": "[encoded data removed]",
      "text/plain": [
       "<Figure size 432x288 with 1 Axes>"
      ]
     },
     "metadata": {
      "needs_background": "light"
     },
     "output_type": "display_data"
    }
   ],
   "source": [
    "img = cv2.imread(os.path.join(lists[0], '0006508.jpg'))[:,:,::-1]\n",
    "plt.imshow(img)"
   ]
  },
  {
   "cell_type": "code",
   "execution_count": null,
   "id": "silver-salon",
   "metadata": {},
   "outputs": [],
   "source": [
    "img.shape"
   ]
  },
  {
   "cell_type": "code",
   "execution_count": 102,
   "id": "atmospheric-reviewer",
   "metadata": {},
   "outputs": [
    {
     "data": {
      "text/plain": [
       "<matplotlib.image.AxesImage at 0x7efcf7d3bdd8>"
      ]
     },
     "execution_count": 102,
     "metadata": {},
     "output_type": "execute_result"
    },
    {
     "data": {
      "image/png": "[encoded data removed]",
      "text/plain": [
       "<Figure size 432x288 with 1 Axes>"
      ]
     },
     "metadata": {
      "needs_background": "light"
     },
     "output_type": "display_data"
    }
   ],
   "source": [
    "plt.imshow(x[0]/255.)"
   ]
  },
  {
   "cell_type": "code",
   "execution_count": 71,
   "id": "careful-labor",
   "metadata": {},
   "outputs": [
    {
     "data": {
      "text/plain": [
       "array([0. , 0.1, 0.2, 0.3, 0.4, 0.5, 0.6, 0.7, 0.8, 0.9, 1. ])"
      ]
     },
     "execution_count": 71,
     "metadata": {},
     "output_type": "execute_result"
    }
   ],
   "source": []
  },
  {
   "cell_type": "code",
   "execution_count": 93,
   "id": "english-chorus",
   "metadata": {},
   "outputs": [],
   "source": [
    "boxes = [[0.0, 0.0, 0.1, 1.0],[0.1, 0.0, 0.2, 1.0],[0.2, 0.0, 0.3, 1.0],[0.3, 0.0, 0.4, 1.0],[0.4, 0.0, 0.5, 1.0],\n",
    "         [0.5, 0.0, 0.6, 1.0],[0.6, 0.0, 0.7, 1.0],[0.7, 0.0, 0.8, 1.0],[0.8, 0.0, 0.9, 1.0],[0.9, 0.0, 1.0, 1.0]]\n",
    "box_indices = [0,0,0,0,0,0,0,0,0,0]\n",
    "crop_size = (224,224)\n",
    "x = tf.image.crop_and_resize(img[np.newaxis,:,:,:], boxes, box_indices, crop_size)"
   ]
  },
  {
   "cell_type": "code",
   "execution_count": 94,
   "id": "municipal-headset",
   "metadata": {},
   "outputs": [
    {
     "data": {
      "text/plain": [
       "TensorShape([10, 224, 224, 3])"
      ]
     },
     "execution_count": 94,
     "metadata": {},
     "output_type": "execute_result"
    }
   ],
   "source": [
    "x.shape"
   ]
  },
  {
   "cell_type": "code",
   "execution_count": 95,
   "id": "spread-serbia",
   "metadata": {},
   "outputs": [],
   "source": [
    "y = np.zeros((224*3,224, 3))"
   ]
  },
  {
   "cell_type": "code",
   "execution_count": 99,
   "id": "built-credit",
   "metadata": {},
   "outputs": [],
   "source": [
    "y = np.zeros((224*10,224,3))\n",
    "\n",
    "for i in range(10):\n",
    "    y[224*i:224*(i+1),:,:] = x[i]"
   ]
  },
  {
   "cell_type": "code",
   "execution_count": 100,
   "id": "supreme-perception",
   "metadata": {},
   "outputs": [
    {
     "data": {
      "text/plain": [
       "<matplotlib.image.AxesImage at 0x7efcf82b9da0>"
      ]
     },
     "execution_count": 100,
     "metadata": {},
     "output_type": "execute_result"
    },
    {
     "data": {
      "image/png": "[encoded data removed]",
      "text/plain": [
       "<Figure size 432x288 with 1 Axes>"
      ]
     },
     "metadata": {
      "needs_background": "light"
     },
     "output_type": "display_data"
    }
   ],
   "source": [
    "plt.imshow(y/255.)"
   ]
  },
  {
   "cell_type": "code",
   "execution_count": 36,
   "id": "killing-interim",
   "metadata": {},
   "outputs": [
    {
     "data": {
      "text/plain": [
       "(448, 224)"
      ]
     },
     "execution_count": 36,
     "metadata": {},
     "output_type": "execute_result"
    }
   ],
   "source": [
    "y.shape"
   ]
  },
  {
   "cell_type": "code",
   "execution_count": null,
   "id": "reliable-engineer",
   "metadata": {},
   "outputs": [],
   "source": []
  }
 ],
 "metadata": {
  "kernelspec": {
   "display_name": "Python 3",
   "language": "python",
   "name": "python3"
  },
  "language_info": {
   "codemirror_mode": {
    "name": "ipython",
    "version": 3
   },
   "file_extension": ".py",
   "mimetype": "text/x-python",
   "name": "python",
   "nbconvert_exporter": "python",
   "pygments_lexer": "ipython3",
   "version": "3.6.9"
  }
 },
 "nbformat": 4,
 "nbformat_minor": 5
}
