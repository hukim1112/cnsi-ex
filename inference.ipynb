{
 "cells": [
  {
   "cell_type": "code",
   "execution_count": null,
   "id": "32dd9654",
   "metadata": {},
   "outputs": [],
   "source": [
    "%load_ext autoreload\n",
    "%autoreload 2"
   ]
  },
  {
   "cell_type": "code",
   "execution_count": null,
   "id": "04cd946d",
   "metadata": {},
   "outputs": [],
   "source": [
    "import os\n",
    "os.environ[\"CUDA_VISIBLE_DEVICES\"]=\"0\""
   ]
  },
  {
   "cell_type": "code",
   "execution_count": null,
   "id": "47cab866",
   "metadata": {},
   "outputs": [],
   "source": [
    "import tensorflow as tf\n",
    "from utils.inference import Inference\n",
    "\n",
    "detection_model = tf.keras.models.load_model(\"checkpoints/detection/model-20.h5\")\n",
    "segmentation_model = tf.keras.models.load_model(\"checkpoints/segmentation/model-20.h5\")\n",
    "inference = Inference(detection_model, segmentation_model)"
   ]
  },
  {
   "cell_type": "code",
   "execution_count": null,
   "id": "4de79559",
   "metadata": {},
   "outputs": [],
   "source": [
    "import numpy as np\n",
    "import cv2\n",
    "from matplotlib import pyplot as plt\n",
    "from pycocotools.coco import COCO\n",
    "train_ids = np.load(\"annotations/train_ids.npy\")\n",
    "test_ids = np.load(\"annotations/val_ids.npy\")\n",
    "coco = COCO(\"annotations/integrated_annotation.json\")"
   ]
  },
  {
   "cell_type": "code",
   "execution_count": null,
   "id": "b11ea6ef",
   "metadata": {},
   "outputs": [],
   "source": [
    "image_path = \"detection\"\n",
    "for _id in test_ids[:10]:\n",
    "    image_id = int(_id)\n",
    "    image = coco.loadImgs(image_id)\n",
    "    file = image_path + image[0][\"path\"]\n",
    "    print(file)"
   ]
  },
  {
   "cell_type": "code",
   "execution_count": null,
   "id": "5bbf5c70",
   "metadata": {},
   "outputs": [],
   "source": [
    "image_path = \"detection/datasets/NEXUS_Kim12610/0001804.jpg\"\n",
    "image_array = cv2.imread(image_path)[:,:,::-1]"
   ]
  },
  {
   "cell_type": "code",
   "execution_count": null,
   "id": "6f24da98",
   "metadata": {},
   "outputs": [],
   "source": [
    "print(\"테스트 이미지\")\n",
    "print(\"사이즈 : {}\".format(image_array.shape))\n",
    "plt.imshow(image_array)\n",
    "plt.show()"
   ]
  },
  {
   "cell_type": "code",
   "execution_count": null,
   "id": "d3f87b36",
   "metadata": {},
   "outputs": [],
   "source": [
    "idx, patch, seg_result = inference(image_array)\n",
    "\n",
    "print(\"patch 시작 픽셀은 전체 10000픽셀 중 {}\".format(500*idx))\n",
    "fig = plt.figure()\n",
    "ax = fig.add_subplot(1,2,1)\n",
    "ax.imshow(patch/255.)\n",
    "ax = fig.add_subplot(1,2,2)\n",
    "ax.imshow(seg_result)\n",
    "plt.show()"
   ]
  },
  {
   "cell_type": "code",
   "execution_count": null,
   "id": "0ace5f25",
   "metadata": {},
   "outputs": [],
   "source": []
  }
 ],
 "metadata": {
  "kernelspec": {
   "display_name": "Python 3",
   "language": "python",
   "name": "python3"
  },
  "language_info": {
   "codemirror_mode": {
    "name": "ipython",
    "version": 3
   },
   "file_extension": ".py",
   "mimetype": "text/x-python",
   "name": "python",
   "nbconvert_exporter": "python",
   "pygments_lexer": "ipython3",
   "version": "3.6.9"
  }
 },
 "nbformat": 4,
 "nbformat_minor": 5
}
