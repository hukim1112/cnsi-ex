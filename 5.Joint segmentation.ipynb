{
 "cells": [
  {
   "cell_type": "code",
   "execution_count": 1,
   "id": "f80f5c0c",
   "metadata": {},
   "outputs": [],
   "source": [
    "import json, os, sys\n",
    "%load_ext autoreload\n",
    "%autoreload 2\n",
    "os.environ[\"CUDA_VISIBLE_DEVICES\"]=\"1\"\n",
    "\n",
    "from data.loader import load"
   ]
  },
  {
   "cell_type": "code",
   "execution_count": 67,
   "id": "4d646e28",
   "metadata": {},
   "outputs": [
    {
     "name": "stdout",
     "output_type": "stream",
     "text": [
      "loading annotations into memory...\n",
      "Done (t=0.85s)\n",
      "creating index...\n",
      "index created!\n"
     ]
    }
   ],
   "source": [
    "import numpy as np\n",
    "from matplotlib import pyplot as plt\n",
    "from pycocotools.coco import COCO\n",
    "train_ids = np.load(\"annotations/train_ids.npy\")\n",
    "coco = COCO(\"annotations/integrated_annotation.json\")"
   ]
  },
  {
   "cell_type": "code",
   "execution_count": 77,
   "id": "d73517a7",
   "metadata": {},
   "outputs": [
    {
     "name": "stdout",
     "output_type": "stream",
     "text": [
      "WARNING:tensorflow:AutoGraph could not transform <function load.<locals>.<lambda> at 0x7f56837587b8> and will run it as-is.\n",
      "Cause: could not parse the source code of <function load.<locals>.<lambda> at 0x7f56837587b8>: no matching AST found\n",
      "To silence this warning, decorate the function with @tf.autograph.experimental.do_not_convert\n",
      "WARNING: AutoGraph could not transform <function load.<locals>.<lambda> at 0x7f56837587b8> and will run it as-is.\n",
      "Cause: could not parse the source code of <function load.<locals>.<lambda> at 0x7f56837587b8>: no matching AST found\n",
      "To silence this warning, decorate the function with @tf.autograph.experimental.do_not_convert\n",
      "(19, 1000, 1024, 3)\n",
      "tf.Tensor([0 0 0 0 0 0 0 0 0 1 1 0 0 0 0 0 0 0 0], shape=(19,), dtype=int32)\n",
      "(1000, 1024, 3)\n",
      "(1000, 1024, 3)\n"
     ]
    }
   ],
   "source": [
    "ds = load(train_ids, coco, \"detection\")\n",
    "for patches, labels, mask, origin in ds.take(1):\n",
    "    print(patches.shape)\n",
    "    print(labels)\n",
    "    print(mask.shape)\n",
    "    print(origin.shape)"
   ]
  },
  {
   "cell_type": "code",
   "execution_count": null,
   "id": "1fb4940e",
   "metadata": {},
   "outputs": [],
   "source": []
  },
  {
   "cell_type": "code",
   "execution_count": null,
   "id": "7ec77664",
   "metadata": {},
   "outputs": [],
   "source": []
  },
  {
   "cell_type": "code",
   "execution_count": null,
   "id": "efc4c95f",
   "metadata": {},
   "outputs": [],
   "source": []
  },
  {
   "cell_type": "code",
   "execution_count": null,
   "id": "a4f876b2",
   "metadata": {},
   "outputs": [],
   "source": [
    "boxes = np.zeros([19,4])\n",
    "for i in range(19):\n",
    "    boxes[i] = [0,0+0.05*i,1,0.1+0.05*i]"
   ]
  },
  {
   "cell_type": "code",
   "execution_count": null,
   "id": "f3590503",
   "metadata": {},
   "outputs": [],
   "source": [
    "boxes"
   ]
  },
  {
   "cell_type": "code",
   "execution_count": null,
   "id": "0daeb5cb",
   "metadata": {},
   "outputs": [],
   "source": [
    "for patches, labels, mask, origin in ds.take(1):\n",
    "    print(patches.shape)\n",
    "    print(labels)\n",
    "    print(mask.shape)\n",
    "    print(origin.shape)"
   ]
  },
  {
   "cell_type": "code",
   "execution_count": null,
   "id": "eb6119cb",
   "metadata": {},
   "outputs": [],
   "source": []
  },
  {
   "cell_type": "code",
   "execution_count": null,
   "id": "6177a36d",
   "metadata": {},
   "outputs": [],
   "source": [
    "image_array = data_process(31748, \"detection\")"
   ]
  },
  {
   "cell_type": "code",
   "execution_count": null,
   "id": "adea6421",
   "metadata": {},
   "outputs": [],
   "source": [
    "from data.loader import object_segmentations, object_masking, segmentation_pipeline"
   ]
  },
  {
   "cell_type": "code",
   "execution_count": null,
   "id": "fc0d14e6",
   "metadata": {},
   "outputs": [],
   "source": []
  },
  {
   "cell_type": "code",
   "execution_count": null,
   "id": "0af980b9",
   "metadata": {},
   "outputs": [],
   "source": [
    "mask_array = np.zeros((10000, 1024), np.uint8)"
   ]
  },
  {
   "cell_type": "code",
   "execution_count": null,
   "id": "9b2d73e6",
   "metadata": {},
   "outputs": [],
   "source": [
    "anno_ids = coco.getAnnIds(imgIds=train_ids[0], catIds=[0, 1], iscrowd=None)\n",
    "anns = coco.loadAnns(anno_ids)\n"
   ]
  },
  {
   "cell_type": "code",
   "execution_count": null,
   "id": "5744e9dc",
   "metadata": {},
   "outputs": [],
   "source": [
    "anns[1][\"segmentation\"]"
   ]
  },
  {
   "cell_type": "code",
   "execution_count": null,
   "id": "3d6dee8f",
   "metadata": {},
   "outputs": [],
   "source": [
    "joints, joint_gaps = object_segmentations(anns)"
   ]
  },
  {
   "cell_type": "code",
   "execution_count": null,
   "id": "29b09bbb",
   "metadata": {},
   "outputs": [],
   "source": [
    "joints"
   ]
  },
  {
   "cell_type": "code",
   "execution_count": null,
   "id": "aafd6006",
   "metadata": {},
   "outputs": [],
   "source": [
    "segmentation_pipeline(mask_array, [joints, joint_gaps])"
   ]
  },
  {
   "cell_type": "code",
   "execution_count": null,
   "id": "3b68e904",
   "metadata": {},
   "outputs": [],
   "source": [
    "mask_array.max()"
   ]
  },
  {
   "cell_type": "code",
   "execution_count": null,
   "id": "1e79a237",
   "metadata": {},
   "outputs": [],
   "source": [
    "plt.imshow(mask_array[5000:6000,:], cmap='gray')"
   ]
  },
  {
   "cell_type": "code",
   "execution_count": null,
   "id": "3bfa275f",
   "metadata": {},
   "outputs": [],
   "source": [
    "anns[0][\"category_id\"]"
   ]
  },
  {
   "cell_type": "code",
   "execution_count": null,
   "id": "b20ba6dd",
   "metadata": {},
   "outputs": [],
   "source": [
    "anns[1][\"category_id\"]"
   ]
  },
  {
   "cell_type": "code",
   "execution_count": null,
   "id": "2a08b754",
   "metadata": {},
   "outputs": [],
   "source": []
  },
  {
   "cell_type": "code",
   "execution_count": null,
   "id": "bebda012",
   "metadata": {},
   "outputs": [],
   "source": [
    "anns[0][\"segmentation\"]\n",
    "object_masking(mask_array, anns[0][\"segmentation\"], 100)"
   ]
  },
  {
   "cell_type": "code",
   "execution_count": null,
   "id": "6ce6c3ea",
   "metadata": {},
   "outputs": [],
   "source": [
    "anno_ids = coco.getAnnIds(imgIds=train_ids[0], catIds=[1], iscrowd=None)\n",
    "anns = coco.loadAnns(anno_ids)\n",
    "anns[0][\"segmentation\"]\n",
    "object_masking(mask_array, anns[0][\"segmentation\"], 200)"
   ]
  },
  {
   "cell_type": "code",
   "execution_count": null,
   "id": "4d6407ba",
   "metadata": {},
   "outputs": [],
   "source": [
    "\n",
    "\n",
    "#object_masking(mask_array, anns[1][\"segmentation\"], 200)"
   ]
  },
  {
   "cell_type": "code",
   "execution_count": null,
   "id": "86877458",
   "metadata": {},
   "outputs": [],
   "source": [
    "plt.imshow(mask_array[4000:6000, :], cmap='gray')"
   ]
  },
  {
   "cell_type": "code",
   "execution_count": null,
   "id": "cd794889",
   "metadata": {},
   "outputs": [],
   "source": []
  },
  {
   "cell_type": "code",
   "execution_count": null,
   "id": "eec8053a",
   "metadata": {},
   "outputs": [],
   "source": [
    "from matplotlib import pyplot as plt\n",
    "plt.imshow(image_array)"
   ]
  },
  {
   "cell_type": "code",
   "execution_count": null,
   "id": "a6328ac4",
   "metadata": {},
   "outputs": [],
   "source": [
    "\n",
    "from matplotlib import pyplot as plt\n",
    "import tensorflow as tf\n",
    "import cv2\n",
    "import numpy as np\n",
    "from functools import partial\n",
    "from utils.iou import compute_iou"
   ]
  },
  {
   "cell_type": "markdown",
   "id": "b29da9e4",
   "metadata": {},
   "source": [
    "# load image information from coco object"
   ]
  },
  {
   "cell_type": "code",
   "execution_count": null,
   "id": "24554dc6",
   "metadata": {},
   "outputs": [],
   "source": [
    "from pycocotools.coco import COCO\n",
    "coco = COCO(\"annotations/integrated_annotation.json\")\n",
    "\n",
    "train_ids = np.load(\"annotations/train_ids.npy\")\n",
    "print(\"train-data length : {}\".format(len(train_ids)))\n",
    "val_ids = np.load(\"annotations/val_ids.npy\")\n",
    "print(\"train-data length : {}\".format(len(val_ids)))"
   ]
  },
  {
   "cell_type": "code",
   "execution_count": null,
   "id": "e3ba97d5",
   "metadata": {},
   "outputs": [],
   "source": [
    "boxes = np.zeros([19,4])\n",
    "for i in range(19):\n",
    "    boxes[i] = [0,0+0.05*i,1,0.1+0.05*i]\n",
    "\n",
    "def label_process(image_id):\n",
    "    anno_ids = coco.getAnnIds(imgIds=int(image_id), catIds=[0], iscrowd=None)\n",
    "    anns = coco.loadAnns(anno_ids)\n",
    "    bbox = []\n",
    "    for ann in anns:\n",
    "        x,y,w,h = ann[\"bbox\"]\n",
    "        x,y,w,h = x/2024,y/10000,w/2024,h/10000    \n",
    "        bbox.append([x,y,x+w,y+h]) \n",
    "    bbox = np.array(bbox)        \n",
    "    ious = compute_iou(bbox, boxes)         \n",
    "    ious = np.sum(ious, axis=0)\n",
    "    ious = tf.squeeze(ious)\n",
    "    labels = tf.where(ious>0, 1, 0) \n",
    "    return labels\n",
    "\n",
    "def data_process(image_ids):\n",
    "    image_ids = image_ids.numpy()\n",
    "    image_array = []\n",
    "    label_array = []\n",
    "    for image_id in image_ids:\n",
    "        image = coco.loadImgs(int(image_id))      \n",
    "        image_array.append(cv2.imread(\"detection\" + image[0][\"path\"])[:,:,::-1])\n",
    "        label_array.append(label_process(image_id))\n",
    "    image_array = np.array(image_array, np.uint8)\n",
    "    patches = tf.image.extract_patches(images=image_array,\n",
    "                                 sizes=[1, 1000, 1024, 1],\n",
    "                                 strides=[1, 500, 1, 1],\n",
    "                                 rates=[1, 1, 1, 1],\n",
    "                                 padding='VALID')\n",
    "    patches = tf.squeeze(patches)\n",
    "    patches = tf.reshape(patches, (-1, 1000,1024,3))\n",
    "    patches = tf.cast(patches, tf.float32)\n",
    "    patches = tf.keras.applications.resnet_v2.preprocess_input(patches)\n",
    "    patches = tf.image.resize(patches, (224,224), method=\"area\")\n",
    "    label_array = np.array(label_array, np.int32)\n",
    "    label_array = tf.reshape(label_array, (-1))\n",
    "    return patches, label_array\n"
   ]
  },
  {
   "cell_type": "code",
   "execution_count": null,
   "id": "bb4247bb",
   "metadata": {},
   "outputs": [],
   "source": [
    "batch_size = 6; AUTOTUNE = tf.data.experimental.AUTOTUNE;\n",
    "train_ds = tf.data.Dataset.from_tensor_slices(train_ids).cache().shuffle(1000).batch(batch_size)\n",
    "train_ds = train_ds.map(lambda x: tf.py_function(data_process, [x], [tf.float32, tf.int32])).prefetch(buffer_size=AUTOTUNE)\n",
    "\n",
    "val_ds = tf.data.Dataset.from_tensor_slices(val_ids).cache().batch(batch_size)\n",
    "val_ds = val_ds.map(lambda x: tf.py_function(data_process, [x], [tf.float32, tf.int32])).prefetch(buffer_size=AUTOTUNE)\n",
    "\n",
    "\n",
    "for img, label in train_ds.take(1):\n",
    "    print(img.shape, label)\n",
    "    \n",
    "for img, label in val_ds.take(1):\n",
    "    print(img.shape, label)"
   ]
  },
  {
   "cell_type": "code",
   "execution_count": null,
   "id": "872d9564",
   "metadata": {},
   "outputs": [],
   "source": []
  },
  {
   "cell_type": "code",
   "execution_count": null,
   "id": "16f6032b",
   "metadata": {},
   "outputs": [],
   "source": []
  },
  {
   "cell_type": "markdown",
   "id": "06afdf66",
   "metadata": {},
   "source": [
    "# 모델 빌드 및 학습"
   ]
  },
  {
   "cell_type": "code",
   "execution_count": null,
   "id": "d21063e0",
   "metadata": {},
   "outputs": [],
   "source": [
    "resnet = tf.keras.applications.ResNet50V2(include_top=False, \n",
    "                                         weights='imagenet', \n",
    "                                         input_shape=(224,224,3))"
   ]
  },
  {
   "cell_type": "code",
   "execution_count": null,
   "id": "74006478",
   "metadata": {},
   "outputs": [],
   "source": [
    "model = tf.keras.Sequential([resnet,\n",
    "                             tf.keras.layers.GlobalAveragePooling2D(),\n",
    "                             tf.keras.layers.Dense(128, activation='relu'),\n",
    "                             tf.keras.layers.Dense(2, activation=None),\n",
    "                             tf.keras.layers.Softmax()])                             "
   ]
  },
  {
   "cell_type": "code",
   "execution_count": null,
   "id": "f0cec65f",
   "metadata": {},
   "outputs": [],
   "source": [
    "@tf.function\n",
    "def train_step(images, labels, model, optimizer, train_loss, train_acc):\n",
    "    with tf.GradientTape() as tape:\n",
    "        preds = model(images, training=True)\n",
    "        loss = loss_object(labels,preds)\n",
    "    gradients = tape.gradient(loss, model.trainable_variables)\n",
    "    optimizer.apply_gradients(zip(gradients, model.trainable_variables))\n",
    "    train_loss(loss)\n",
    "    train_acc(labels, preds)\n",
    "@tf.function\n",
    "def test_step(images, labels, model):\n",
    "    preds = model(images, training=False)\n",
    "    loss = loss_object(labels,preds)\n",
    "    test_loss(loss)\n",
    "    test_acc(labels, preds)"
   ]
  },
  {
   "cell_type": "code",
   "execution_count": null,
   "id": "948bbaa0",
   "metadata": {},
   "outputs": [],
   "source": [
    "train_loss = tf.keras.metrics.Mean(name='train_loss')\n",
    "train_acc = tf.keras.metrics.SparseCategoricalAccuracy(name='train_accuracy')\n",
    "test_loss = tf.keras.metrics.Mean(name='test_loss')\n",
    "test_acc = tf.keras.metrics.SparseCategoricalAccuracy(name='test_accuracy')\n",
    "template = \"Epoch {} : train loss {:5f}, accuracy {:.3f}, val loss {:5f}, val accuracy {:.3f}\"\n",
    "\n",
    "optimizer = tf.keras.optimizers.Adam(learning_rate=1E-3)\n",
    "loss_object = tf.keras.losses.SparseCategoricalCrossentropy()\n",
    "EPOCH = 20\n",
    "\n",
    "log_dir = \"logs/detection_test_v1\"\n",
    "summary_writer = tf.summary.create_file_writer(log_dir)\n",
    "\n",
    "for epoch in range(1, EPOCH+1):\n",
    "    train_loss.reset_states()\n",
    "    train_acc.reset_states()\n",
    "    test_loss.reset_states()\n",
    "    test_acc.reset_states()\n",
    "    for i, (imgs, labels) in enumerate(train_ds):\n",
    "        train_step(imgs, labels, model, optimizer, train_loss, train_acc)\n",
    "    for imgs, labels in val_ds:\n",
    "        test_step(imgs, labels, model)\n",
    "    print(template.format(epoch,\n",
    "                          train_loss.result().numpy(),\n",
    "                          train_acc.result().numpy(),\n",
    "                         test_loss.result().numpy(),\n",
    "                         test_acc.result().numpy()))\n",
    "\n",
    "    with summary_writer.as_default():\n",
    "        tf.summary.scalar('train_loss', train_loss.result(), step=epoch)\n",
    "        tf.summary.scalar('train_acc', train_acc.result().numpy(), step=epoch)\n",
    "        tf.summary.scalar('test_loss', test_loss.result().numpy(), step=epoch)\n",
    "        tf.summary.scalar('test_acc', test_acc.result().numpy(), step=epoch)"
   ]
  },
  {
   "cell_type": "code",
   "execution_count": null,
   "id": "0555acf0",
   "metadata": {},
   "outputs": [],
   "source": [
    "model.save(\"checkpoints/detection_test_v1/model.h5\")"
   ]
  },
  {
   "cell_type": "markdown",
   "id": "6e102c62",
   "metadata": {},
   "source": [
    "# 테스트"
   ]
  },
  {
   "cell_type": "code",
   "execution_count": null,
   "id": "0b58e738",
   "metadata": {},
   "outputs": [],
   "source": [
    "model = tf.keras.models.load_modelval_ds = val_ds.map(lambda x: tf.py_function(data_process, [x], [tf.float32, tf.int32])).prefetch(buffer_size=AUTOTUNE)\n",
    "val_ds = val_ds.map(lambda x: tf.py_function(data_process, [x], [tf.float32, tf.int32])).prefetch(buffer_size=AUTOTUNE)\n",
    "val_ds = val_ds.map(lambda x: tf.py_function(data_process, [x], [tf.float32, tf.int32])).prefetch(buffer_size=AUTOTUNE)\n",
    "val_ds = val_ds.map(lambda x: tf.py_function(data_process, [x], [tf.float32, tf.int32])).prefetch(buffer_size=AUTOTUNE)\n",
    "val_ds = val_ds.map(lambda x: tf.py_function(data_process, [x], [tf.float32, tf.int32])).prefetch(buffer_size=AUTOTUNE)\n",
    "(\"checkpoints/detection_test_v1/model.h5\")"
   ]
  },
  {
   "cell_type": "code",
   "execution_count": null,
   "id": "52bd8f70",
   "metadata": {},
   "outputs": [],
   "source": [
    "val_ds = tf.data.Dataset.from_tensor_slices(val_ids).cache().batch(1)\n",
    "val_ds = val_ds.map(lambda x: tf.py_function(data_process, [x], [tf.float32, tf.int32])).prefetch(buffer_size=AUTOTUNE)"
   ]
  },
  {
   "cell_type": "code",
   "execution_count": null,
   "id": "84dc358d",
   "metadata": {},
   "outputs": [],
   "source": [
    "for img, label in val_ds.take(1):\n",
    "    print(img.shape)\n",
    "    print(label)"
   ]
  },
  {
   "cell_type": "code",
   "execution_count": null,
   "id": "ffd04f29",
   "metadata": {},
   "outputs": [],
   "source": [
    "fig = plt.figure()\n",
    "\n",
    "for r in range(5):\n",
    "    for c in range(4):\n",
    "        ax = fig.add_subplot(5,4,r*4 + c + 1)\n",
    "        if r*4+c+1>19:\n",
    "            break\n",
    "        ax.imshow((img[r*4+c]+1)/2)"
   ]
  },
  {
   "cell_type": "code",
   "execution_count": null,
   "id": "d25ec957",
   "metadata": {},
   "outputs": [],
   "source": [
    "model(img)"
   ]
  },
  {
   "cell_type": "code",
   "execution_count": null,
   "id": "a46ad067",
   "metadata": {},
   "outputs": [],
   "source": []
  }
 ],
 "metadata": {
  "kernelspec": {
   "display_name": "Python 3",
   "language": "python",
   "name": "python3"
  },
  "language_info": {
   "codemirror_mode": {
    "name": "ipython",
    "version": 3
   },
   "file_extension": ".py",
   "mimetype": "text/x-python",
   "name": "python",
   "nbconvert_exporter": "python",
   "pygments_lexer": "ipython3",
   "version": "3.6.9"
  }
 },
 "nbformat": 4,
 "nbformat_minor": 5
}
