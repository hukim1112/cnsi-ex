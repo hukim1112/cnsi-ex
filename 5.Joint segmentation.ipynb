{
 "cells": [
  {
   "cell_type": "code",
   "execution_count": null,
   "metadata": {},
   "outputs": [],
   "source": [
    "import json, os, sys\n",
    "%load_ext autoreload\n",
    "%autoreload 2\n",
    "os.environ[\"CUDA_VISIBLE_DEVICES\"]=\"1\"\n",
    "# from utils import session_config\n",
    "# session_config.setup_gpus(True, 0.95)\n",
    "\n",
    "from matplotlib import pyplot as plt\n",
    "import tensorflow as tf\n",
    "import cv2\n",
    "import numpy as np\n",
    "from functools import partial\n",
    "from utils.iou import compute_iou"
   ]
  },
  {
   "cell_type": "markdown",
   "metadata": {},
   "source": [
    "# load image information from coco object"
   ]
  },
  {
   "cell_type": "code",
   "execution_count": null,
   "metadata": {},
   "outputs": [],
   "source": [
    "from pycocotools.coco import COCO\n",
    "coco = COCO(\"annotations/integrated_annotation.json\")\n",
    "\n",
    "train_ids = np.load(\"annotations/train_ids.npy\")\n",
    "print(\"train-data length : {}\".format(len(train_ids)))\n",
    "val_ids = np.load(\"annotations/val_ids.npy\")\n",
    "print(\"train-data length : {}\".format(len(val_ids)))"
   ]
  },
  {
   "cell_type": "code",
   "execution_count": null,
   "metadata": {},
   "outputs": [],
   "source": [
    "boxes = np.zeros([19,4])\n",
    "for i in range(19):\n",
    "    boxes[i] = [0,0+0.05*i,1,0.1+0.05*i]\n",
    "\n",
    "def label_process(image_id):\n",
    "    anno_ids = coco.getAnnIds(imgIds=int(image_id), catIds=[0], iscrowd=None)\n",
    "    anns = coco.loadAnns(anno_ids)\n",
    "    bbox = []\n",
    "    for ann in anns:\n",
    "        x,y,w,h = ann[\"bbox\"]\n",
    "        x,y,w,h = x/2024,y/10000,w/2024,h/10000    \n",
    "        bbox.append([x,y,x+w,y+h]) \n",
    "    bbox = np.array(bbox)        \n",
    "    ious = compute_iou(bbox, boxes)         \n",
    "    ious = np.sum(ious, axis=0)\n",
    "    ious = tf.squeeze(ious)\n",
    "    labels = tf.where(ious>0, 1, 0) \n",
    "    return labels\n",
    "\n",
    "def data_process(image_ids):\n",
    "    image_ids = image_ids.numpy()\n",
    "    image_array = []\n",
    "    label_array = []\n",
    "    for image_id in image_ids:\n",
    "        image = coco.loadImgs(int(image_id))      \n",
    "        image_array.append(cv2.imread(\"detection\" + image[0][\"path\"])[:,:,::-1])\n",
    "        label_array.append(label_process(image_id))\n",
    "    image_array = np.array(image_array, np.uint8)\n",
    "    patches = tf.image.extract_patches(images=image_array,\n",
    "                                 sizes=[1, 1000, 1024, 1],\n",
    "                                 strides=[1, 500, 1, 1],\n",
    "                                 rates=[1, 1, 1, 1],\n",
    "                                 padding='VALID')\n",
    "    patches = tf.squeeze(patches)\n",
    "    patches = tf.reshape(patches, (-1, 1000,1024,3))\n",
    "    patches = tf.cast(patches, tf.float32)\n",
    "    patches = tf.keras.applications.resnet_v2.preprocess_input(patches)\n",
    "    patches = tf.image.resize(patches, (224,224), method=\"area\")\n",
    "    label_array = np.array(label_array, np.int32)\n",
    "    label_array = tf.reshape(label_array, (-1))\n",
    "    return patches, label_array\n"
   ]
  },
  {
   "cell_type": "code",
   "execution_count": null,
   "metadata": {},
   "outputs": [],
   "source": [
    "batch_size = 6; AUTOTUNE = tf.data.experimental.AUTOTUNE;\n",
    "train_ds = tf.data.Dataset.from_tensor_slices(train_ids).cache().shuffle(1000).batch(batch_size)\n",
    "train_ds = train_ds.map(lambda x: tf.py_function(data_process, [x], [tf.float32, tf.int32])).prefetch(buffer_size=AUTOTUNE)\n",
    "\n",
    "val_ds = tf.data.Dataset.from_tensor_slices(val_ids).cache().batch(batch_size)\n",
    "val_ds = val_ds.map(lambda x: tf.py_function(data_process, [x], [tf.float32, tf.int32])).prefetch(buffer_size=AUTOTUNE)\n",
    "\n",
    "\n",
    "for img, label in train_ds.take(1):\n",
    "    print(img.shape, label)\n",
    "    \n",
    "for img, label in val_ds.take(1):\n",
    "    print(img.shape, label)"
   ]
  },
  {
   "cell_type": "code",
   "execution_count": null,
   "metadata": {},
   "outputs": [],
   "source": []
  },
  {
   "cell_type": "code",
   "execution_count": null,
   "metadata": {},
   "outputs": [],
   "source": []
  },
  {
   "cell_type": "markdown",
   "metadata": {},
   "source": [
    "# 모델 빌드 및 학습"
   ]
  },
  {
   "cell_type": "code",
   "execution_count": null,
   "metadata": {},
   "outputs": [],
   "source": [
    "resnet = tf.keras.applications.ResNet50V2(include_top=False, \n",
    "                                         weights='imagenet', \n",
    "                                         input_shape=(224,224,3))"
   ]
  },
  {
   "cell_type": "code",
   "execution_count": null,
   "metadata": {},
   "outputs": [],
   "source": [
    "model = tf.keras.Sequential([resnet,\n",
    "                             tf.keras.layers.GlobalAveragePooling2D(),\n",
    "                             tf.keras.layers.Dense(128, activation='relu'),\n",
    "                             tf.keras.layers.Dense(2, activation=None),\n",
    "                             tf.keras.layers.Softmax()])                             "
   ]
  },
  {
   "cell_type": "code",
   "execution_count": null,
   "metadata": {},
   "outputs": [],
   "source": [
    "@tf.function\n",
    "def train_step(images, labels, model, optimizer, train_loss, train_acc):\n",
    "    with tf.GradientTape() as tape:\n",
    "        preds = model(images, training=True)\n",
    "        loss = loss_object(labels,preds)\n",
    "    gradients = tape.gradient(loss, model.trainable_variables)\n",
    "    optimizer.apply_gradients(zip(gradients, model.trainable_variables))\n",
    "    train_loss(loss)\n",
    "    train_acc(labels, preds)\n",
    "@tf.function\n",
    "def test_step(images, labels, model):\n",
    "    preds = model(images, training=False)\n",
    "    loss = loss_object(labels,preds)\n",
    "    test_loss(loss)\n",
    "    test_acc(labels, preds)"
   ]
  },
  {
   "cell_type": "code",
   "execution_count": null,
   "metadata": {},
   "outputs": [],
   "source": [
    "train_loss = tf.keras.metrics.Mean(name='train_loss')\n",
    "train_acc = tf.keras.metrics.SparseCategoricalAccuracy(name='train_accuracy')\n",
    "test_loss = tf.keras.metrics.Mean(name='test_loss')\n",
    "test_acc = tf.keras.metrics.SparseCategoricalAccuracy(name='test_accuracy')\n",
    "template = \"Epoch {} : train loss {:5f}, accuracy {:.3f}, val loss {:5f}, val accuracy {:.3f}\"\n",
    "\n",
    "optimizer = tf.keras.optimizers.Adam(learning_rate=1E-3)\n",
    "loss_object = tf.keras.losses.SparseCategoricalCrossentropy()\n",
    "EPOCH = 20\n",
    "\n",
    "log_dir = \"logs/detection_test_v1\"\n",
    "summary_writer = tf.summary.create_file_writer(log_dir)\n",
    "\n",
    "for epoch in range(1, EPOCH+1):\n",
    "    train_loss.reset_states()\n",
    "    train_acc.reset_states()\n",
    "    test_loss.reset_states()\n",
    "    test_acc.reset_states()\n",
    "    for i, (imgs, labels) in enumerate(train_ds):\n",
    "        train_step(imgs, labels, model, optimizer, train_loss, train_acc)\n",
    "    for imgs, labels in val_ds:\n",
    "        test_step(imgs, labels, model)\n",
    "    print(template.format(epoch,\n",
    "                          train_loss.result().numpy(),\n",
    "                          train_acc.result().numpy(),\n",
    "                         test_loss.result().numpy(),\n",
    "                         test_acc.result().numpy()))\n",
    "\n",
    "    with summary_writer.as_default():\n",
    "        tf.summary.scalar('train_loss', train_loss.result(), step=epoch)\n",
    "        tf.summary.scalar('train_acc', train_acc.result().numpy(), step=epoch)\n",
    "        tf.summary.scalar('test_loss', test_loss.result().numpy(), step=epoch)\n",
    "        tf.summary.scalar('test_acc', test_acc.result().numpy(), step=epoch)"
   ]
  },
  {
   "cell_type": "code",
   "execution_count": null,
   "metadata": {},
   "outputs": [],
   "source": [
    "model.save(\"checkpoints/detection_test_v1/model.h5\")"
   ]
  },
  {
   "cell_type": "markdown",
   "metadata": {},
   "source": [
    "# 테스트"
   ]
  },
  {
   "cell_type": "code",
   "execution_count": null,
   "metadata": {},
   "outputs": [],
   "source": [
    "model = tf.keras.models.load_modelval_ds = val_ds.map(lambda x: tf.py_function(data_process, [x], [tf.float32, tf.int32])).prefetch(buffer_size=AUTOTUNE)\n",
    "val_ds = val_ds.map(lambda x: tf.py_function(data_process, [x], [tf.float32, tf.int32])).prefetch(buffer_size=AUTOTUNE)\n",
    "val_ds = val_ds.map(lambda x: tf.py_function(data_process, [x], [tf.float32, tf.int32])).prefetch(buffer_size=AUTOTUNE)\n",
    "val_ds = val_ds.map(lambda x: tf.py_function(data_process, [x], [tf.float32, tf.int32])).prefetch(buffer_size=AUTOTUNE)\n",
    "val_ds = val_ds.map(lambda x: tf.py_function(data_process, [x], [tf.float32, tf.int32])).prefetch(buffer_size=AUTOTUNE)\n",
    "(\"checkpoints/detection_test_v1/model.h5\")"
   ]
  },
  {
   "cell_type": "code",
   "execution_count": null,
   "metadata": {},
   "outputs": [],
   "source": [
    "val_ds = tf.data.Dataset.from_tensor_slices(val_ids).cache().batch(1)\n",
    "val_ds = val_ds.map(lambda x: tf.py_function(data_process, [x], [tf.float32, tf.int32])).prefetch(buffer_size=AUTOTUNE)"
   ]
  },
  {
   "cell_type": "code",
   "execution_count": null,
   "metadata": {},
   "outputs": [],
   "source": [
    "for img, label in val_ds.take(1):\n",
    "    print(img.shape)\n",
    "    print(label)"
   ]
  },
  {
   "cell_type": "code",
   "execution_count": null,
   "metadata": {},
   "outputs": [],
   "source": [
    "fig = plt.figure()\n",
    "\n",
    "for r in range(5):\n",
    "    for c in range(4):\n",
    "        ax = fig.add_subplot(5,4,r*4 + c + 1)\n",
    "        if r*4+c+1>19:\n",
    "            break\n",
    "        ax.imshow((img[r*4+c]+1)/2)"
   ]
  },
  {
   "cell_type": "code",
   "execution_count": null,
   "metadata": {},
   "outputs": [],
   "source": [
    "model(img)"
   ]
  },
  {
   "cell_type": "code",
   "execution_count": null,
   "metadata": {},
   "outputs": [],
   "source": []
  }
 ],
 "metadata": {
  "kernelspec": {
   "display_name": "Python 3",
   "language": "python",
   "name": "python3"
  },
  "language_info": {
   "codemirror_mode": {
    "name": "ipython",
    "version": 3
   },
   "file_extension": ".py",
   "mimetype": "text/x-python",
   "name": "python",
   "nbconvert_exporter": "python",
   "pygments_lexer": "ipython3",
   "version": "3.6.9"
  }
 },
 "nbformat": 4,
 "nbformat_minor": 5
}
